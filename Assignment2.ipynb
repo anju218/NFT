{
  "nbformat": 4,
  "nbformat_minor": 0,
  "metadata": {
    "colab": {
      "name": "Untitled4.ipynb",
      "provenance": []
    },
    "kernelspec": {
      "name": "python3",
      "display_name": "Python 3"
    },
    "language_info": {
      "name": "python"
    }
  },
  "cells": [
    {
      "cell_type": "code",
      "metadata": {
        "id": "6nuUuUBSZHU9"
      },
      "source": [
        "import cv2\n",
        "import os\n",
        "import pandas as pd\n",
        "import math\n",
        "from tqdm import tqdm\n",
        "from glob import glob\n",
        "import tensorflow as tf\n",
        "from tensorflow.keras import datasets,layers,models\n",
        "import matplotlib.pyplot as plt\n",
        "import IPython.display as display\n",
        "from PIL import Image\n",
        "import numpy as np"
      ],
      "execution_count": 2,
      "outputs": []
    },
    {
      "cell_type": "code",
      "metadata": {
        "colab": {
          "base_uri": "https://localhost:8080/"
        },
        "id": "1AGGEhaHZFbT",
        "outputId": "37974477-587a-492a-89c4-54851ac2ae41"
      },
      "source": [
        "from google.colab import drive\n",
        "drive.mount('/content/drive')"
      ],
      "execution_count": 3,
      "outputs": [
        {
          "output_type": "stream",
          "name": "stdout",
          "text": [
            "Mounted at /content/drive\n"
          ]
        }
      ]
    },
    {
      "cell_type": "markdown",
      "metadata": {
        "id": "E9hvBIXi5Yls"
      },
      "source": [
        "Data Preprocessing"
      ]
    },
    {
      "cell_type": "code",
      "metadata": {
        "id": "bX_O0yP7muNx"
      },
      "source": [
        "os.chdir('/content/drive/MyDrive/dataset/Action_Recognition/')"
      ],
      "execution_count": 6,
      "outputs": []
    },
    {
      "cell_type": "code",
      "metadata": {
        "colab": {
          "base_uri": "https://localhost:8080/"
        },
        "id": "3DJxx70OtttV",
        "outputId": "523dbf95-335e-4251-cfa6-1575aef1496e"
      },
      "source": [
        "ls"
      ],
      "execution_count": 11,
      "outputs": [
        {
          "output_type": "stream",
          "name": "stdout",
          "text": [
            "\u001b[0m\u001b[01;34mdribling\u001b[0m/  \u001b[01;34mheadshot\u001b[0m/  \u001b[01;34mkicking\u001b[0m/  \u001b[01;34mrunning\u001b[0m/\n"
          ]
        }
      ]
    },
    {
      "cell_type": "code",
      "metadata": {
        "id": "hQGKo5mOt0UA"
      },
      "source": [
        "os.chdir('/content/drive/MyDrive/dataset/Action_Recognition/dribling/')"
      ],
      "execution_count": 50,
      "outputs": []
    },
    {
      "cell_type": "code",
      "metadata": {
        "id": "ZF-tbmYenOQe"
      },
      "source": [
        "from os import listdir\n",
        "from os.path import isfile, join\n",
        "onlyfiles = [f for f in listdir() if isfile(join('',f))]\n",
        "Dribling = onlyfiles[1:]"
      ],
      "execution_count": 51,
      "outputs": []
    },
    {
      "cell_type": "code",
      "metadata": {
        "id": "rnf_2ixBuCzV"
      },
      "source": [
        "os.chdir('/content/drive/MyDrive/dataset/Action_Recognition/headshot/')"
      ],
      "execution_count": 52,
      "outputs": []
    },
    {
      "cell_type": "code",
      "metadata": {
        "id": "0biq03uEuJ3h"
      },
      "source": [
        "from os import listdir\n",
        "from os.path import isfile, join\n",
        "onlyfiles = [f for f in listdir() if isfile(join('',f))]\n",
        "Headshot = onlyfiles[1:]"
      ],
      "execution_count": 53,
      "outputs": []
    },
    {
      "cell_type": "code",
      "metadata": {
        "id": "nYdH38cMuQO_"
      },
      "source": [
        "os.chdir('/content/drive/MyDrive/dataset/Action_Recognition/kick/')"
      ],
      "execution_count": 54,
      "outputs": []
    },
    {
      "cell_type": "code",
      "metadata": {
        "id": "G3FMPWa1uVuh"
      },
      "source": [
        "from os import listdir\n",
        "from os.path import isfile, join\n",
        "onlyfiles = [f for f in listdir() if isfile(join('',f))]\n",
        "Kick = onlyfiles[1:]"
      ],
      "execution_count": 55,
      "outputs": []
    },
    {
      "cell_type": "code",
      "metadata": {
        "id": "zTalqqjIubD4"
      },
      "source": [
        "os.chdir('/content/drive/MyDrive/dataset/Action_Recognition/running/')"
      ],
      "execution_count": 56,
      "outputs": []
    },
    {
      "cell_type": "code",
      "metadata": {
        "id": "ctDoqyocue2v"
      },
      "source": [
        "from os import listdir\n",
        "from os.path import isfile, join\n",
        "onlyfiles = [f for f in listdir() if isfile(join('',f))]\n",
        "Running = onlyfiles[1:]"
      ],
      "execution_count": 57,
      "outputs": []
    },
    {
      "cell_type": "code",
      "metadata": {
        "id": "fz1yY2MSujRl"
      },
      "source": [
        "DriblingTrain = Dribling[:int(len(Dribling)*0.7)]\n",
        "HeadshotTrain = Headshot[1:int(len(Headshot)*0.7)]\n",
        "KickTrain = Kick[1:int(len(Kick)*0.7)]\n",
        "RunningTrain=Running[1:int(len(Running)*0.7)]"
      ],
      "execution_count": 58,
      "outputs": []
    },
    {
      "cell_type": "code",
      "metadata": {
        "id": "fVVZfvS7vYJy"
      },
      "source": [
        "trainNames = []\n",
        "for each in DriblingTrain:\n",
        "    trainNames.append(each)\n",
        "for each in HeadshotTrain:\n",
        "    trainNames.append(each)\n",
        "for each in KickTrain:\n",
        "    trainNames.append(each)\n",
        "for each in RunningTrain:\n",
        "    trainNames.append(each)  "
      ],
      "execution_count": 59,
      "outputs": []
    },
    {
      "cell_type": "code",
      "metadata": {
        "colab": {
          "base_uri": "https://localhost:8080/"
        },
        "id": "R73GkRnIvqaX",
        "outputId": "ca20f86d-ca5a-47fb-f7cb-e2fb4344f3b7"
      },
      "source": [
        "\n",
        "len(trainNames)"
      ],
      "execution_count": 60,
      "outputs": [
        {
          "output_type": "execute_result",
          "data": {
            "text/plain": [
              "102"
            ]
          },
          "metadata": {},
          "execution_count": 60
        }
      ]
    },
    {
      "cell_type": "code",
      "metadata": {
        "id": "q8VkkO6Evvpy"
      },
      "source": [
        "DriblingTest = Dribling[int(len(Dribling)*0.7):]\n",
        "HeadshotTest = Headshot[int(len(Headshot)*0.7):]\n",
        "KickTest = Kick[int(len(Kick)*0.7):]\n",
        "RunningTest = Running[int(len(Running)*0.7):]\n"
      ],
      "execution_count": 61,
      "outputs": []
    },
    {
      "cell_type": "code",
      "metadata": {
        "id": "KuYGhxEOwRXJ"
      },
      "source": [
        "testNames = []\n",
        "for each in DriblingTest :\n",
        "    testNames.append(each)\n",
        "for each in HeadshotTest:\n",
        "    testNames.append(each)\n",
        "for each in KickTest:\n",
        "    testNames.append(each)\n",
        "for each in RunningTest:\n",
        "    testNames.append(each)"
      ],
      "execution_count": 62,
      "outputs": []
    },
    {
      "cell_type": "code",
      "metadata": {
        "colab": {
          "base_uri": "https://localhost:8080/"
        },
        "id": "mgvC1VMswhLx",
        "outputId": "be74b66d-eefa-4efe-84e2-0369d7f72595"
      },
      "source": [
        "len(testNames)"
      ],
      "execution_count": 63,
      "outputs": [
        {
          "output_type": "execute_result",
          "data": {
            "text/plain": [
              "47"
            ]
          },
          "metadata": {},
          "execution_count": 63
        }
      ]
    },
    {
      "cell_type": "code",
      "metadata": {
        "colab": {
          "base_uri": "https://localhost:8080/",
          "height": 419
        },
        "id": "Fl1j_9OVwn8M",
        "outputId": "4fd3f0cb-9c60-4477-e60a-1757cb4f559b"
      },
      "source": [
        "train = pd.DataFrame()\n",
        "train['video_Names']=trainNames\n",
        "train_video_tag = []\n",
        "for i in range(train.shape[0]):\n",
        "    train_video_tag.append(train['video_Names'][i].split('_')[1])\n",
        "train['tag'] = train_video_tag   \n",
        "train"
      ],
      "execution_count": 65,
      "outputs": [
        {
          "output_type": "execute_result",
          "data": {
            "text/html": [
              "<div>\n",
              "<style scoped>\n",
              "    .dataframe tbody tr th:only-of-type {\n",
              "        vertical-align: middle;\n",
              "    }\n",
              "\n",
              "    .dataframe tbody tr th {\n",
              "        vertical-align: top;\n",
              "    }\n",
              "\n",
              "    .dataframe thead th {\n",
              "        text-align: right;\n",
              "    }\n",
              "</style>\n",
              "<table border=\"1\" class=\"dataframe\">\n",
              "  <thead>\n",
              "    <tr style=\"text-align: right;\">\n",
              "      <th></th>\n",
              "      <th>video_Names</th>\n",
              "      <th>tag</th>\n",
              "    </tr>\n",
              "  </thead>\n",
              "  <tbody>\n",
              "    <tr>\n",
              "      <th>0</th>\n",
              "      <td>v_dribling_g1_c3.mp4</td>\n",
              "      <td>dribling</td>\n",
              "    </tr>\n",
              "    <tr>\n",
              "      <th>1</th>\n",
              "      <td>v_dribling_g1_c2.mp4</td>\n",
              "      <td>dribling</td>\n",
              "    </tr>\n",
              "    <tr>\n",
              "      <th>2</th>\n",
              "      <td>v_dribling_g1_c1.mp4</td>\n",
              "      <td>dribling</td>\n",
              "    </tr>\n",
              "    <tr>\n",
              "      <th>3</th>\n",
              "      <td>v_dribling_g2_c1.mp4</td>\n",
              "      <td>dribling</td>\n",
              "    </tr>\n",
              "    <tr>\n",
              "      <th>4</th>\n",
              "      <td>v_dribling_g2_c2.mp4</td>\n",
              "      <td>dribling</td>\n",
              "    </tr>\n",
              "    <tr>\n",
              "      <th>...</th>\n",
              "      <td>...</td>\n",
              "      <td>...</td>\n",
              "    </tr>\n",
              "    <tr>\n",
              "      <th>97</th>\n",
              "      <td>v_running_g6_c1.mp4</td>\n",
              "      <td>running</td>\n",
              "    </tr>\n",
              "    <tr>\n",
              "      <th>98</th>\n",
              "      <td>v_running_g7_c1.mp4</td>\n",
              "      <td>running</td>\n",
              "    </tr>\n",
              "    <tr>\n",
              "      <th>99</th>\n",
              "      <td>v_running_g8_c1.mp4</td>\n",
              "      <td>running</td>\n",
              "    </tr>\n",
              "    <tr>\n",
              "      <th>100</th>\n",
              "      <td>v_running_g9_c1.mp4</td>\n",
              "      <td>running</td>\n",
              "    </tr>\n",
              "    <tr>\n",
              "      <th>101</th>\n",
              "      <td>v_running_g10_c1.mp4</td>\n",
              "      <td>running</td>\n",
              "    </tr>\n",
              "  </tbody>\n",
              "</table>\n",
              "<p>102 rows × 2 columns</p>\n",
              "</div>"
            ],
            "text/plain": [
              "              video_Names       tag\n",
              "0    v_dribling_g1_c3.mp4  dribling\n",
              "1    v_dribling_g1_c2.mp4  dribling\n",
              "2    v_dribling_g1_c1.mp4  dribling\n",
              "3    v_dribling_g2_c1.mp4  dribling\n",
              "4    v_dribling_g2_c2.mp4  dribling\n",
              "..                    ...       ...\n",
              "97    v_running_g6_c1.mp4   running\n",
              "98    v_running_g7_c1.mp4   running\n",
              "99    v_running_g8_c1.mp4   running\n",
              "100   v_running_g9_c1.mp4   running\n",
              "101  v_running_g10_c1.mp4   running\n",
              "\n",
              "[102 rows x 2 columns]"
            ]
          },
          "metadata": {},
          "execution_count": 65
        }
      ]
    },
    {
      "cell_type": "code",
      "metadata": {
        "id": "26xaCYQAwxVa"
      },
      "source": [
        "test = pd.DataFrame()\n",
        "test['video_Names']=testNames\n",
        "test_video_tag = []\n",
        "for i in range(test.shape[0]):\n",
        "    test_video_tag.append(test['video_Names'][i].split('_')[1])\n",
        "test['tag'] = test_video_tag    \n",
        "test"
      ],
      "execution_count": null,
      "outputs": []
    },
    {
      "cell_type": "code",
      "metadata": {
        "id": "mG_uJYuuxKp7"
      },
      "source": [
        "os.chdir('/content/drive/MyDrive/dataset/')"
      ],
      "execution_count": 67,
      "outputs": []
    },
    {
      "cell_type": "code",
      "metadata": {
        "colab": {
          "base_uri": "https://localhost:8080/"
        },
        "id": "FTQ2YRpHxr6j",
        "outputId": "13869095-d7c7-4f11-ecc8-673a6ddcb185"
      },
      "source": [
        "#frames extraction\n",
        "count=0\n",
        "for i in tqdm(range(train.shape[0])):\n",
        "\n",
        "    videoFile = train['video_Names'][i].split(\" \")[0].split(\"_\")[1]+\"/\"+train['video_Names'][i]\n",
        "    cap = cv2.VideoCapture('Action_Recognition/'+videoFile)\n",
        "    frameRate = cap.get(5)\n",
        "    while(cap.isOpened()):\n",
        "        frameId = cap.get(1) #current frame number\n",
        "        ret, frame = cap.read()\n",
        "        if (ret != True):\n",
        "            break\n",
        "        if (frameId % math.floor(frameRate) == 0):\n",
        "        \n",
        "            # storing the frames in a new folder named train_1\n",
        "        \n",
        "            filename ='train/' + train[\"video_Names\"][i].split(\"_\")[1]+\"_\"+train[\"video_Names\"][i].split(\"_\")[2]+ train[\"video_Names\"][i].split(\"_\")[3].split(\".\")[0] +\"_frame%d.jpg\" %count\n",
        "            count = count+1\n",
        "            cv2.imwrite(filename, frame)\n",
        "\n",
        "    cap.release()"
      ],
      "execution_count": 68,
      "outputs": [
        {
          "output_type": "stream",
          "name": "stderr",
          "text": [
            "100%|██████████| 102/102 [00:11<00:00,  8.78it/s]\n"
          ]
        }
      ]
    },
    {
      "cell_type": "code",
      "metadata": {
        "id": "IGznfGGSq_8X"
      },
      "source": [
        "images = glob(\"train/*.jpg\")"
      ],
      "execution_count": 80,
      "outputs": []
    },
    {
      "cell_type": "code",
      "metadata": {
        "colab": {
          "base_uri": "https://localhost:8080/"
        },
        "id": "VyRNa1ZlrKYz",
        "outputId": "229f8095-d651-4d33-eb2c-6dabc4b24aa7"
      },
      "source": [
        "train_image = []\n",
        "train_class =[]\n",
        "for i in tqdm(range(len(images))):\n",
        "    train_image.append(images[i].split('/')[1])\n",
        "    train_class.append(images[i].split('/')[1].split(\"_\")[0])"
      ],
      "execution_count": 81,
      "outputs": [
        {
          "output_type": "stream",
          "name": "stderr",
          "text": [
            "100%|██████████| 110/110 [00:00<00:00, 69809.87it/s]\n"
          ]
        }
      ]
    },
    {
      "cell_type": "code",
      "metadata": {
        "colab": {
          "base_uri": "https://localhost:8080/",
          "height": 35
        },
        "id": "bpxOjrFarqZB",
        "outputId": "f986897e-1344-42e3-8bc8-2de0f4119816"
      },
      "source": [
        "pwd"
      ],
      "execution_count": 73,
      "outputs": [
        {
          "output_type": "execute_result",
          "data": {
            "application/vnd.google.colaboratory.intrinsic+json": {
              "type": "string"
            },
            "text/plain": [
              "'/content/drive/My Drive/dataset'"
            ]
          },
          "metadata": {},
          "execution_count": 73
        }
      ]
    },
    {
      "cell_type": "code",
      "metadata": {
        "id": "JL6y8_gVriHY"
      },
      "source": [
        "train_data = pd.DataFrame()\n",
        "train_data['image'] = train_image\n",
        "train_data['class'] = train_class\n",
        "\n",
        "# converting the dataframe into csv file \n",
        "train_data.to_csv('/content/drive/MyDrive/dataset/train_new.csv',header=True, index=False)"
      ],
      "execution_count": 88,
      "outputs": []
    },
    {
      "cell_type": "code",
      "metadata": {
        "colab": {
          "base_uri": "https://localhost:8080/"
        },
        "id": "GCzYhNoiryot",
        "outputId": "e5d61d28-ecac-4322-ab46-7845be29efef"
      },
      "source": [
        "count=0\n",
        "for i in tqdm(range(test.shape[0])):\n",
        "    \n",
        "    videoFile = test['video_Names'][i].split(\" \")[0].split(\"_\")[1]+\"/\"+test['video_Names'][i]\n",
        "    cap = cv2.VideoCapture('Action_Recognition/'+videoFile)\n",
        "    frameRate = cap.get(5)\n",
        "    while(cap.isOpened()):\n",
        "        frameId = cap.get(1)\n",
        "        ret, frame = cap.read()\n",
        "        if (ret != True):\n",
        "            break\n",
        "        if (frameId % math.floor(frameRate) == 0):\n",
        "            filename = 'test/' + test[\"video_Names\"][i].split(\"_\")[1]+\"_\"+test['video_Names'][i].split(\"_\")[2]+test['video_Names'][i].split(\"_\")[3].split(\".\")[0]+\"_frame%d.jpg\" %count\n",
        "            count = count+1\n",
        "            cv2.imwrite(filename, frame)\n",
        "            \n",
        "    cap.release()"
      ],
      "execution_count": 83,
      "outputs": [
        {
          "output_type": "stream",
          "name": "stderr",
          "text": [
            "100%|██████████| 47/47 [00:01<00:00, 44.42it/s]\n"
          ]
        }
      ]
    },
    {
      "cell_type": "code",
      "metadata": {
        "id": "p5xDzRbVsAdo"
      },
      "source": [
        "images = glob(\"test/*.jpg\")\n",
        "images"
      ],
      "execution_count": null,
      "outputs": []
    },
    {
      "cell_type": "code",
      "metadata": {
        "colab": {
          "base_uri": "https://localhost:8080/"
        },
        "id": "hAgAUfystWwq",
        "outputId": "96ce8430-b5e8-4981-ef6d-e29edc487096"
      },
      "source": [
        "test_image = []\n",
        "test_class =[]\n",
        "for i in tqdm(range(len(images))):\n",
        "    test_image.append(images[i].split('/')[1])\n",
        "    test_class.append(images[i].split('/')[1].split(\"_\")[0])"
      ],
      "execution_count": 86,
      "outputs": [
        {
          "output_type": "stream",
          "name": "stderr",
          "text": [
            "100%|██████████| 53/53 [00:00<00:00, 212725.47it/s]\n"
          ]
        }
      ]
    },
    {
      "cell_type": "code",
      "metadata": {
        "id": "lwNqnVPNtmoD"
      },
      "source": [
        "test_data = pd.DataFrame()\n",
        "test_data['image'] = test_image\n",
        "test_data['class'] = test_class\n",
        "\n",
        "# converting the dataframe into csv file \n",
        "test_data.to_csv('/content/drive/MyDrive/dataset/test_new.csv',header=True, index=False)"
      ],
      "execution_count": 87,
      "outputs": []
    },
    {
      "cell_type": "code",
      "metadata": {
        "id": "3eniaXpRt1mT"
      },
      "source": [
        "import IPython.display as display\n",
        "from PIL import Image\n",
        "import numpy as np\n",
        "import matplotlib.pyplot as plt\n",
        "import os"
      ],
      "execution_count": 27,
      "outputs": []
    },
    {
      "cell_type": "code",
      "metadata": {
        "colab": {
          "base_uri": "https://localhost:8080/"
        },
        "id": "OxAWpMwCt_s1",
        "outputId": "0174b994-be44-4ff1-f784-cc26b9abba8c"
      },
      "source": [
        "cd .."
      ],
      "execution_count": 7,
      "outputs": [
        {
          "output_type": "stream",
          "name": "stdout",
          "text": [
            "/content/drive/MyDrive/dataset\n"
          ]
        }
      ]
    },
    {
      "cell_type": "markdown",
      "metadata": {
        "id": "8bRjtKr55fz-"
      },
      "source": [
        "CNN model"
      ]
    },
    {
      "cell_type": "code",
      "metadata": {
        "id": "2eJohFf0uB58"
      },
      "source": [
        "image_generator = tf.keras.preprocessing.image.ImageDataGenerator(rescale=1./255)"
      ],
      "execution_count": 8,
      "outputs": []
    },
    {
      "cell_type": "code",
      "metadata": {
        "id": "F_vOoGBYuGFT"
      },
      "source": [
        "CLASS_NAMES = [\"dribling\",\"headshot\",\"kick\",\"running\"]"
      ],
      "execution_count": 9,
      "outputs": []
    },
    {
      "cell_type": "code",
      "metadata": {
        "colab": {
          "base_uri": "https://localhost:8080/"
        },
        "id": "XnwZ7JAvu-BB",
        "outputId": "ae675103-1bb3-49ce-c58d-ce3dfd8e6ebc"
      },
      "source": [
        "cd dataset"
      ],
      "execution_count": 10,
      "outputs": [
        {
          "output_type": "stream",
          "name": "stdout",
          "text": [
            "[Errno 2] No such file or directory: 'dataset'\n",
            "/content/drive/MyDrive/dataset\n"
          ]
        }
      ]
    },
    {
      "cell_type": "code",
      "metadata": {
        "colab": {
          "base_uri": "https://localhost:8080/"
        },
        "id": "wUlcGc59uarI",
        "outputId": "11397c4d-12f3-40e8-c599-a11dcdde313d"
      },
      "source": [
        "#frames preprocessing\n",
        "train_datagen = tf.keras.preprocessing.image.ImageDataGenerator(\n",
        "    rescale = 1./255,\n",
        "    shear_range = 0.2,\n",
        "    zoom_range = 0.2,\n",
        "    horizontal_flip = True)\n",
        "\n",
        "train_generator = train_datagen.flow_from_directory(\n",
        "    'train/',\n",
        "    target_size= (256, 256),\n",
        "    color_mode = 'rgb')\n",
        "test_datagen = tf.keras.preprocessing.image.ImageDataGenerator(rescale = 1./255)\n",
        "validation_generator = test_datagen.flow_from_directory(\n",
        "    'test/',\n",
        "    target_size= (256, 256),\n",
        "    batch_size = 5,\n",
        "    color_mode = 'rgb')"
      ],
      "execution_count": 11,
      "outputs": [
        {
          "output_type": "stream",
          "name": "stdout",
          "text": [
            "Found 105 images belonging to 3 classes.\n",
            "Found 50 images belonging to 3 classes.\n"
          ]
        }
      ]
    },
    {
      "cell_type": "code",
      "metadata": {
        "colab": {
          "base_uri": "https://localhost:8080/"
        },
        "id": "RyACwY4Q3bv9",
        "outputId": "8916c827-850b-4188-8b35-af21c1c28f2a"
      },
      "source": [
        "model = models.Sequential()\n",
        "model.add(layers.Conv2D(32, (3,3), input_shape = (256,256,3), activation = 'relu'))\n",
        "model.add(layers.MaxPooling2D(pool_size = (2,2)))\n",
        "model.add(layers.Dropout(0.05))\n",
        "model.add(layers.Conv2D(32, (3,3), activation = 'relu'))\n",
        "model.add(layers.MaxPooling2D(pool_size = (2,2)))\n",
        "model.add(layers.Dropout(0.07))\n",
        "model.add(layers.Conv2D(64, (3,3), activation = 'relu'))\n",
        "model.add(layers.MaxPooling2D(pool_size = (2,2)))\n",
        "model.add(layers.Dropout(0.15))\n",
        "model.add(layers.Flatten())\n",
        "model.add(layers.Dense(200, activation = 'relu'))\n",
        "model.add(layers.Dropout(0.4))\n",
        "model.add(layers.Dense(3, activation = 'softmax'))\n",
        "model.compile(loss = tf.keras.losses.CategoricalCrossentropy(),\n",
        "             optimizer = 'adam',\n",
        "             metrics = ['accuracy'])\n",
        "\n",
        "history=model.fit(train_generator,epochs =10,validation_data=validation_generator)\n",
        "model.save(\"/content/drive/My Drive/dataset/modelCNN.h5\")"
      ],
      "execution_count": 14,
      "outputs": [
        {
          "output_type": "stream",
          "name": "stdout",
          "text": [
            "Epoch 1/10\n",
            "4/4 [==============================] - 9s 2s/step - loss: 2.7345 - accuracy: 0.3714 - val_loss: 1.0275 - val_accuracy: 0.2400\n",
            "Epoch 2/10\n",
            "4/4 [==============================] - 8s 2s/step - loss: 0.8975 - accuracy: 0.4952 - val_loss: 0.8805 - val_accuracy: 0.6400\n",
            "Epoch 3/10\n",
            "4/4 [==============================] - 8s 2s/step - loss: 0.6608 - accuracy: 0.7048 - val_loss: 0.7481 - val_accuracy: 0.6400\n",
            "Epoch 4/10\n",
            "4/4 [==============================] - 8s 2s/step - loss: 0.5895 - accuracy: 0.7524 - val_loss: 0.7043 - val_accuracy: 0.6600\n",
            "Epoch 5/10\n",
            "4/4 [==============================] - 8s 2s/step - loss: 0.4966 - accuracy: 0.8286 - val_loss: 0.6975 - val_accuracy: 0.6600\n",
            "Epoch 6/10\n",
            "4/4 [==============================] - 8s 2s/step - loss: 0.4174 - accuracy: 0.8190 - val_loss: 0.7442 - val_accuracy: 0.6200\n",
            "Epoch 7/10\n",
            "4/4 [==============================] - 8s 2s/step - loss: 0.3263 - accuracy: 0.8762 - val_loss: 0.6970 - val_accuracy: 0.7000\n",
            "Epoch 8/10\n",
            "4/4 [==============================] - 8s 2s/step - loss: 0.4003 - accuracy: 0.8095 - val_loss: 0.6655 - val_accuracy: 0.7000\n",
            "Epoch 9/10\n",
            "4/4 [==============================] - 8s 2s/step - loss: 0.3497 - accuracy: 0.8381 - val_loss: 0.7453 - val_accuracy: 0.6200\n",
            "Epoch 10/10\n",
            "4/4 [==============================] - 8s 2s/step - loss: 0.3538 - accuracy: 0.8476 - val_loss: 1.0204 - val_accuracy: 0.6800\n"
          ]
        }
      ]
    },
    {
      "cell_type": "code",
      "metadata": {
        "colab": {
          "base_uri": "https://localhost:8080/"
        },
        "id": "rNnvN9T34HzD",
        "outputId": "8c0bb888-822a-4564-a1f3-fbca37cfcda1"
      },
      "source": [
        "model.evaluate(validation_generator)"
      ],
      "execution_count": 15,
      "outputs": [
        {
          "output_type": "stream",
          "name": "stdout",
          "text": [
            "10/10 [==============================] - 1s 88ms/step - loss: 1.0204 - accuracy: 0.6800\n"
          ]
        },
        {
          "output_type": "execute_result",
          "data": {
            "text/plain": [
              "[1.0203996896743774, 0.6800000071525574]"
            ]
          },
          "metadata": {},
          "execution_count": 15
        }
      ]
    },
    {
      "cell_type": "code",
      "metadata": {
        "colab": {
          "base_uri": "https://localhost:8080/"
        },
        "id": "ICRJ9Eh44NcI",
        "outputId": "0de49a5d-9185-4d84-b6af-bbbac4643ed8"
      },
      "source": [
        "model.summary()"
      ],
      "execution_count": 16,
      "outputs": [
        {
          "output_type": "stream",
          "name": "stdout",
          "text": [
            "Model: \"sequential_1\"\n",
            "_________________________________________________________________\n",
            "Layer (type)                 Output Shape              Param #   \n",
            "=================================================================\n",
            "conv2d_3 (Conv2D)            (None, 254, 254, 32)      896       \n",
            "_________________________________________________________________\n",
            "max_pooling2d_3 (MaxPooling2 (None, 127, 127, 32)      0         \n",
            "_________________________________________________________________\n",
            "dropout_4 (Dropout)          (None, 127, 127, 32)      0         \n",
            "_________________________________________________________________\n",
            "conv2d_4 (Conv2D)            (None, 125, 125, 32)      9248      \n",
            "_________________________________________________________________\n",
            "max_pooling2d_4 (MaxPooling2 (None, 62, 62, 32)        0         \n",
            "_________________________________________________________________\n",
            "dropout_5 (Dropout)          (None, 62, 62, 32)        0         \n",
            "_________________________________________________________________\n",
            "conv2d_5 (Conv2D)            (None, 60, 60, 64)        18496     \n",
            "_________________________________________________________________\n",
            "max_pooling2d_5 (MaxPooling2 (None, 30, 30, 64)        0         \n",
            "_________________________________________________________________\n",
            "dropout_6 (Dropout)          (None, 30, 30, 64)        0         \n",
            "_________________________________________________________________\n",
            "flatten_1 (Flatten)          (None, 57600)             0         \n",
            "_________________________________________________________________\n",
            "dense_2 (Dense)              (None, 200)               11520200  \n",
            "_________________________________________________________________\n",
            "dropout_7 (Dropout)          (None, 200)               0         \n",
            "_________________________________________________________________\n",
            "dense_3 (Dense)              (None, 3)                 603       \n",
            "=================================================================\n",
            "Total params: 11,549,443\n",
            "Trainable params: 11,549,443\n",
            "Non-trainable params: 0\n",
            "_________________________________________________________________\n"
          ]
        }
      ]
    },
    {
      "cell_type": "code",
      "metadata": {
        "colab": {
          "base_uri": "https://localhost:8080/"
        },
        "id": "FGpJ6H6n4Ttr",
        "outputId": "faa34d9c-86e2-42b6-967c-fad312f6447c"
      },
      "source": [
        "from keras.callbacks import History \n",
        "\n",
        "print(history.history.keys())"
      ],
      "execution_count": 17,
      "outputs": [
        {
          "output_type": "stream",
          "name": "stdout",
          "text": [
            "dict_keys(['loss', 'accuracy', 'val_loss', 'val_accuracy'])\n"
          ]
        }
      ]
    },
    {
      "cell_type": "code",
      "metadata": {
        "colab": {
          "base_uri": "https://localhost:8080/",
          "height": 295
        },
        "id": "ChkYk3KC4X04",
        "outputId": "8fd6401e-6f20-4888-b23a-abcdea1ca3ea"
      },
      "source": [
        "loss_train = history.history['loss']\n",
        "loss_val = history.history['val_loss']\n",
        "epochs = range(1,11)\n",
        "plt.plot(epochs, loss_train, 'g', label='Training loss')\n",
        "plt.plot(epochs, loss_val, 'b', label='validation loss')\n",
        "accuracy_train = history.history['accuracy']\n",
        "accuracy_val = history.history['val_accuracy']\n",
        "plt.plot(epochs, accuracy_train, 'r', label='Training accuracy')\n",
        "plt.plot(epochs, accuracy_val, 'y', label='validation accuracy')\n",
        "plt.title('Training and Validation loss and accuracy')\n",
        "plt.xlabel('Epochs')\n",
        "plt.ylabel('Loss/Accuracy')\n",
        "plt.legend()\n",
        "plt.show()"
      ],
      "execution_count": 18,
      "outputs": [
        {
          "output_type": "display_data",
          "data": {
            "image/png": "[encoded data removed]",
            "text/plain": [
              "<Figure size 432x288 with 1 Axes>"
            ]
          },
          "metadata": {
            "needs_background": "light"
          }
        }
      ]
    },
    {
      "cell_type": "code",
      "metadata": {
        "id": "nnXHhj_B4lSL"
      },
      "source": [
        ""
      ],
      "execution_count": 129,
      "outputs": []
    },
    {
      "cell_type": "code",
      "metadata": {
        "colab": {
          "base_uri": "https://localhost:8080/",
          "height": 35
        },
        "id": "mlp1__Hi4qGk",
        "outputId": "96c0ce35-f7a3-4bab-ceb2-9ab7a9f77b9f"
      },
      "source": [
        "pwd\n"
      ],
      "execution_count": 23,
      "outputs": [
        {
          "output_type": "execute_result",
          "data": {
            "application/vnd.google.colaboratory.intrinsic+json": {
              "type": "string"
            },
            "text/plain": [
              "'/content/drive/My Drive/dataset'"
            ]
          },
          "metadata": {},
          "execution_count": 23
        }
      ]
    },
    {
      "cell_type": "code",
      "metadata": {
        "id": "BH7aQDnM4vhI"
      },
      "source": [
        "from keras.models import load_model\n",
        "import numpy as np\n",
        "from keras.preprocessing import image\n",
        "from keras.preprocessing import image\n",
        "model=load_model('/content/drive/My Drive/dataset/modelCNN.h5')"
      ],
      "execution_count": 19,
      "outputs": []
    },
    {
      "cell_type": "code",
      "metadata": {
        "colab": {
          "base_uri": "https://localhost:8080/",
          "height": 35
        },
        "id": "KgcwwryrVSe6",
        "outputId": "2e442e02-bf19-4962-b227-412c704893a6"
      },
      "source": [
        "pwd"
      ],
      "execution_count": 20,
      "outputs": [
        {
          "output_type": "execute_result",
          "data": {
            "application/vnd.google.colaboratory.intrinsic+json": {
              "type": "string"
            },
            "text/plain": [
              "'/content/drive/My Drive/dataset'"
            ]
          },
          "metadata": {},
          "execution_count": 20
        }
      ]
    },
    {
      "cell_type": "code",
      "metadata": {
        "colab": {
          "base_uri": "https://localhost:8080/"
        },
        "id": "nKsfcnVEUe5U",
        "outputId": "7e791fbc-6ed7-46bc-abf0-087d0e9a5441"
      },
      "source": [
        "#prediction\n",
        "test_image=image.load_img('test/headshot/headshot_g19c21_frame34.jpg',target_size=(256,256))\n",
        "\n",
        "test_image=image.img_to_array(test_image)\n",
        "test_image=np.expand_dims(test_image,axis=0)\n",
        "label=model.predict(test_image)\n",
        "print(label)\n",
        "\n",
        "if label[0][2]==1:\n",
        "    print('kick')\n",
        "elif label[0][0]==1:\n",
        "    print('dribling')\n",
        "elif label[0][1]==1:\n",
        "    print('headshot')"
      ],
      "execution_count": 36,
      "outputs": [
        {
          "output_type": "stream",
          "name": "stdout",
          "text": [
            "[[0. 1. 0.]]\n",
            "headshot\n"
          ]
        }
      ]
    },
    {
      "cell_type": "markdown",
      "metadata": {
        "id": "pXPBohz9WBdz"
      },
      "source": [
        "LSTM"
      ]
    },
    {
      "cell_type": "markdown",
      "metadata": {
        "id": "r98hIAFa6NS3"
      },
      "source": [
        "Part 1: Spacial Featuring"
      ]
    },
    {
      "cell_type": "code",
      "metadata": {
        "id": "Ot686N4rdrmi"
      },
      "source": [
        "modelfeatured=models.Model(\n",
        "    inputs=model.input,\n",
        "    outputs=model.get_layer('flatten_1').output\n",
        ")"
      ],
      "execution_count": 38,
      "outputs": []
    },
    {
      "cell_type": "code",
      "metadata": {
        "id": "Np9RYQHDeFm8"
      },
      "source": [
        "modelfeatured1 = models.Model(\n",
        "    inputs=model.input,\n",
        "    outputs=model.get_layer('dense_2').output\n",
        ")"
      ],
      "execution_count": 40,
      "outputs": []
    },
    {
      "cell_type": "code",
      "metadata": {
        "colab": {
          "base_uri": "https://localhost:8080/"
        },
        "id": "M9YOZwqseLd8",
        "outputId": "3c8afcbb-c76e-47a0-bdb7-5007f0262ca0"
      },
      "source": [
        "base_model = tf.keras.applications.inception_v3.InceptionV3(\n",
        "    weights='imagenet',\n",
        "    include_top=True\n",
        ")\n",
        "# We'll extract features at the final pool layer.\n",
        "modelfeatured3 = models.Model(\n",
        "    inputs=base_model.input,\n",
        "    outputs=base_model.get_layer('avg_pool').output\n",
        ")"
      ],
      "execution_count": 41,
      "outputs": [
        {
          "output_type": "stream",
          "name": "stdout",
          "text": [
            "Downloading data from https://storage.googleapis.com/tensorflow/keras-applications/inception_v3/inception_v3_weights_tf_dim_ordering_tf_kernels.h5\n",
            "96116736/96112376 [==============================] - 1s 0us/step\n",
            "96124928/96112376 [==============================] - 1s 0us/step\n"
          ]
        }
      ]
    },
    {
      "cell_type": "code",
      "metadata": {
        "colab": {
          "base_uri": "https://localhost:8080/"
        },
        "id": "pdgiif8TeXHY",
        "outputId": "14f14b69-444e-4016-9c8e-8a2fbfe30155"
      },
      "source": [
        "train_datagen = tf.keras.preprocessing.image.ImageDataGenerator(\n",
        "  rescale = 1./255,\n",
        "  validation_split=0.2,\n",
        "  shear_range = 0.2, # random application of shearing\n",
        "  zoom_range = 0.2,\n",
        "  horizontal_flip = True) # randomly flipping half of the images horizontally\n",
        "train_datagen\n",
        "train_generator = train_datagen.flow_from_directory(\n",
        "  'train/',\n",
        "  target_size = (256, 256),\n",
        "  shuffle = True,\n",
        "  color_mode = 'rgb')\n",
        "  \n",
        "test_datagen = tf.keras.preprocessing.image.ImageDataGenerator(rescale = 1./255)\n",
        "validation_generator = test_datagen.flow_from_directory(\n",
        "  'test/',\n",
        "  target_size = (256, 256),\n",
        "  batch_size = 15,\n",
        "  shuffle=True,\n",
        "  color_mode = 'rgb')"
      ],
      "execution_count": 42,
      "outputs": [
        {
          "output_type": "stream",
          "name": "stdout",
          "text": [
            "Found 105 images belonging to 3 classes.\n",
            "Found 50 images belonging to 3 classes.\n"
          ]
        }
      ]
    },
    {
      "cell_type": "code",
      "metadata": {
        "id": "88kDIQQoejbM"
      },
      "source": [
        "modelfeatured = modelfeatured1\n",
        "#modelfeatured = modelfeatured2\n",
        "#modelfeatured = modelfeatured\n",
        "\n",
        "train_featured = modelfeatured.predict(train_generator)\n",
        "test_featured = modelfeatured.predict(validation_generator)"
      ],
      "execution_count": 97,
      "outputs": []
    },
    {
      "cell_type": "code",
      "metadata": {
        "id": "eaNfMp2memmM"
      },
      "source": [
        "np.savetxt('/content/drive/MyDrive/dataset/ftrainf.csv',train_featured, delimiter=',')\n",
        "np.savetxt('/content/drive/MyDrive/dataset/ftestf.csv',test_featured, delimiter=',')"
      ],
      "execution_count": 98,
      "outputs": []
    },
    {
      "cell_type": "markdown",
      "metadata": {
        "id": "8e-V7q6d6aze"
      },
      "source": [
        "Part 2: Temporal Featuring"
      ]
    },
    {
      "cell_type": "code",
      "metadata": {
        "colab": {
          "base_uri": "https://localhost:8080/"
        },
        "id": "FSlR-LkVemwr",
        "outputId": "56210542-7433-4705-a40b-25a88fc0d4ca"
      },
      "source": [
        "train_datagen = tf.keras.preprocessing.image.ImageDataGenerator(\n",
        "      rescale = 1./255,\n",
        "      shear_range = 0.2, # random application of shearing\n",
        "      zoom_range = 0.2,\n",
        "      validation_split=0.2,\n",
        "      horizontal_flip = True) # randomly flipping half of the images horizontally\n",
        "\n",
        "train_generator = train_datagen.flow_from_directory(\n",
        "      'train/',\n",
        "      target_size = (256, 256),\n",
        "      shuffle = True,\n",
        "      color_mode = \"rgb\")"
      ],
      "execution_count": 99,
      "outputs": [
        {
          "output_type": "stream",
          "name": "stdout",
          "text": [
            "Found 105 images belonging to 3 classes.\n"
          ]
        }
      ]
    },
    {
      "cell_type": "code",
      "metadata": {
        "id": "4V1uiQnBe4xR"
      },
      "source": [
        "model = models.Sequential()\n",
        "model.add(layers.Conv2D(256, kernel_size=(1, 1),input_shape=(256,256, 3)))\n",
        "model.add(tf.keras.layers.BatchNormalization())\n",
        "model.add(tf.keras.layers.Activation('relu'))\n",
        "model.add(layers.MaxPooling2D((3, 3)))\n",
        "\n",
        "model.add(layers.Conv2D(128, (3, 3)))\n",
        "model.add(tf.keras.layers.BatchNormalization())\n",
        "model.add(tf.keras.layers.Activation('relu'))\n",
        "model.add(layers.MaxPooling2D(pool_size=(3, 3)))\n",
        "\n",
        "model.add(layers.Conv2D(64, (3, 3)))\n",
        "model.add(tf.keras.layers.BatchNormalization())\n",
        "model.add(tf.keras.layers.Activation('relu'))\n",
        "model.add(layers.MaxPooling2D(pool_size=(2, 2)))\n",
        "\n",
        "model.add(layers.Conv2D(64, (1, 1)))\n",
        "model.add(tf.keras.layers.BatchNormalization())\n",
        "model.add(tf.keras.layers.Activation('relu'))\n",
        "model.add(layers.MaxPooling2D(pool_size=(2, 2)))\n",
        "\n",
        "model.add(layers.Flatten())\n",
        "\n",
        "model.add(layers.Dense(64, activation='relu'))\n",
        "model.add(layers.Dropout(0.3))\n",
        "\n",
        "model.add(layers.Dense(64, activation='relu'))\n",
        "model.add(layers.Dropout(0.3))       \n",
        "model.add(layers.Dense(3, activation='softmax'))"
      ],
      "execution_count": 100,
      "outputs": []
    },
    {
      "cell_type": "code",
      "metadata": {
        "colab": {
          "base_uri": "https://localhost:8080/"
        },
        "id": "3KBGZNjTfN1s",
        "outputId": "bce092c1-3a04-4280-822c-01eeab748542"
      },
      "source": [
        "model.compile(optimizer=\"adam\",loss=tf.keras.losses.CategoricalCrossentropy(),metrics=['accuracy'])\n",
        "#model.load_weights('modelCNN.h5')\n",
        "callback = tf.keras.callbacks.EarlyStopping(patience=3)\n",
        "model.fit(train_generator,epochs=9,batch_size=6)\n",
        "model.save_weights(\"modelFF.h5\")"
      ],
      "execution_count": 101,
      "outputs": [
        {
          "output_type": "stream",
          "name": "stdout",
          "text": [
            "Epoch 1/9\n",
            "4/4 [==============================] - 46s 11s/step - loss: 1.2450 - accuracy: 0.4476\n",
            "Epoch 2/9\n",
            "4/4 [==============================] - 43s 10s/step - loss: 0.8948 - accuracy: 0.6000\n",
            "Epoch 3/9\n",
            "4/4 [==============================] - 42s 10s/step - loss: 0.7515 - accuracy: 0.6667\n",
            "Epoch 4/9\n",
            "4/4 [==============================] - 42s 10s/step - loss: 0.6900 - accuracy: 0.6667\n",
            "Epoch 5/9\n",
            "4/4 [==============================] - 42s 10s/step - loss: 0.6823 - accuracy: 0.7333\n",
            "Epoch 6/9\n",
            "4/4 [==============================] - 42s 13s/step - loss: 0.5858 - accuracy: 0.7333\n",
            "Epoch 7/9\n",
            "4/4 [==============================] - 42s 13s/step - loss: 0.4243 - accuracy: 0.8190\n",
            "Epoch 8/9\n",
            "4/4 [==============================] - 42s 10s/step - loss: 0.2867 - accuracy: 0.8952\n",
            "Epoch 9/9\n",
            "4/4 [==============================] - 42s 10s/step - loss: 0.2956 - accuracy: 0.9238\n"
          ]
        }
      ]
    },
    {
      "cell_type": "code",
      "metadata": {
        "colab": {
          "base_uri": "https://localhost:8080/"
        },
        "id": "Exg0CA3kkel6",
        "outputId": "7d36a6c9-fb95-46d7-b175-5735989326fc"
      },
      "source": [
        "model.evaluate(train_generator)"
      ],
      "execution_count": 102,
      "outputs": [
        {
          "output_type": "stream",
          "name": "stdout",
          "text": [
            "4/4 [==============================] - 10s 2s/step - loss: 0.9535 - accuracy: 0.6476\n"
          ]
        },
        {
          "output_type": "execute_result",
          "data": {
            "text/plain": [
              "[0.9535433053970337, 0.6476190686225891]"
            ]
          },
          "metadata": {},
          "execution_count": 102
        }
      ]
    },
    {
      "cell_type": "code",
      "metadata": {
        "colab": {
          "base_uri": "https://localhost:8080/"
        },
        "id": "h1hNIycxkgij",
        "outputId": "71c4e763-9d4d-4423-eb7a-64eefc17e7c0"
      },
      "source": [
        "train_datagen =  tf.keras.preprocessing.image.ImageDataGenerator(rescale=1./255)\n",
        "\n",
        "train_generator = train_datagen.flow_from_directory(\n",
        "        'train/',\n",
        "        target_size=(256, 256),\n",
        "        color_mode=\"rgb\",\n",
        "        shuffle = False,\n",
        "        class_mode='categorical',\n",
        "        batch_size=1)\n",
        "\n",
        "filenames = train_generator.filenames\n",
        "nb_samples = len(filenames)\n",
        "\n",
        "predict = model.predict_generator(train_generator)\n",
        "frame = pd.DataFrame(predict, columns=[1,2,3])\n",
        "feature_train_1 = pd.DataFrame(frame.idxmax(axis=1),columns=[\"class\"])"
      ],
      "execution_count": 103,
      "outputs": [
        {
          "output_type": "stream",
          "name": "stdout",
          "text": [
            "Found 105 images belonging to 3 classes.\n"
          ]
        },
        {
          "output_type": "stream",
          "name": "stderr",
          "text": [
            "/usr/local/lib/python3.7/dist-packages/keras/engine/training.py:2035: UserWarning: `Model.predict_generator` is deprecated and will be removed in a future version. Please use `Model.predict`, which supports generators.\n",
            "  warnings.warn('`Model.predict_generator` is deprecated and '\n"
          ]
        }
      ]
    },
    {
      "cell_type": "code",
      "metadata": {
        "colab": {
          "base_uri": "https://localhost:8080/"
        },
        "id": "xI5L6eOblMYe",
        "outputId": "ee27ad08-afbd-47d4-a12b-847caf51461e"
      },
      "source": [
        "test_datagen1 =  tf.keras.preprocessing.image.ImageDataGenerator(rescale=1./255)\n",
        "\n",
        "test_generator1 = test_datagen1.flow_from_directory(\n",
        "        'test/',\n",
        "        target_size=(256, 256),\n",
        "        color_mode=\"rgb\",\n",
        "        shuffle = False,\n",
        "        class_mode='categorical',\n",
        "        batch_size=1)\n",
        "\n",
        "filenames = test_generator1.filenames\n",
        "nb_samples = len(filenames)\n",
        "\n",
        "predict = model.predict_generator(test_generator1)\n",
        "frame = pd.DataFrame(predict, columns=[1,2,3])\n",
        "feature_test_1 = pd.DataFrame(frame.idxmax(axis=1),columns=[\"class\"])"
      ],
      "execution_count": 104,
      "outputs": [
        {
          "output_type": "stream",
          "name": "stdout",
          "text": [
            "Found 50 images belonging to 3 classes.\n"
          ]
        },
        {
          "output_type": "stream",
          "name": "stderr",
          "text": [
            "/usr/local/lib/python3.7/dist-packages/keras/engine/training.py:2035: UserWarning: `Model.predict_generator` is deprecated and will be removed in a future version. Please use `Model.predict`, which supports generators.\n",
            "  warnings.warn('`Model.predict_generator` is deprecated and '\n"
          ]
        }
      ]
    },
    {
      "cell_type": "code",
      "metadata": {
        "colab": {
          "base_uri": "https://localhost:8080/"
        },
        "id": "CqnkhtcQldSn",
        "outputId": "334b2666-41ea-4d9d-8dbb-a48972976294"
      },
      "source": [
        "mkdir features"
      ],
      "execution_count": 53,
      "outputs": [
        {
          "output_type": "stream",
          "name": "stdout",
          "text": [
            "mkdir: cannot create directory ‘features’: File exists\n"
          ]
        }
      ]
    },
    {
      "cell_type": "code",
      "metadata": {
        "id": "7R1ain5DllHP"
      },
      "source": [
        "feature_test_1.to_csv('features/feature_test_1.csv', index=False)\n",
        "feature_train_1.to_csv('features/feature_train_1.csv', index=False)"
      ],
      "execution_count": 105,
      "outputs": []
    },
    {
      "cell_type": "code",
      "metadata": {
        "id": "TW3X-KZBl0a4"
      },
      "source": [
        "feature_test_1 = pd.read_csv('features/feature_test_1.csv')\n",
        "feature_train_1 = pd.read_csv('features/feature_train_1.csv')"
      ],
      "execution_count": 106,
      "outputs": []
    },
    {
      "cell_type": "markdown",
      "metadata": {
        "id": "HnhIJ4Im6vfm"
      },
      "source": [
        "Part 3: LSTM Modelling\n",
        "Here LSTM model is build on the sequenced dataframes from each video These dataframes have \n",
        "extracted  1.spacial features from the cnn model  2.temporal features from cnn or other models"
      ]
    },
    {
      "cell_type": "code",
      "metadata": {
        "id": "kwBYHvYNm4vj"
      },
      "source": [
        "from sklearn.preprocessing import MinMaxScaler\n",
        "from sklearn.cluster import KMeans"
      ],
      "execution_count": 84,
      "outputs": []
    },
    {
      "cell_type": "code",
      "metadata": {
        "id": "Gvkw1LOJl2nC"
      },
      "source": [
        "df = np.genfromtxt('ftrainf.csv', delimiter=',')\n",
        "scaler=MinMaxScaler()\n",
        "\n",
        "scaled=scaler.fit_transform(df)\n",
        "df=pd.DataFrame(scaled)\n",
        "\n",
        "kmean4=KMeans(n_clusters=4)\n",
        "kmean4.fit(df)\n",
        "y_hat = kmean4.predict(df)\n",
        "feature_train_2 = y_hat.reshape(y_hat.shape[0],1)"
      ],
      "execution_count": 107,
      "outputs": []
    },
    {
      "cell_type": "code",
      "metadata": {
        "id": "fc2grHBfnMyn"
      },
      "source": [
        "np.savetxt('features/feature_test_2.csv',feature_test_1, delimiter=',')\n",
        "np.savetxt('features/feature_train_2.csv',feature_train_1, delimiter=',')\n",
        "feature_test_2 = np.genfromtxt('features/feature_test_2.csv', delimiter=',')\n",
        "feature_train_2 = np.genfromtxt('features/feature_train_2.csv', delimiter=',')\n",
        "feature_train_2 = feature_train_2.reshape(feature_train_2.shape[0],1)\n",
        "feature_test_2 = feature_test_2.reshape(feature_test_2.shape[0],1)"
      ],
      "execution_count": 108,
      "outputs": []
    },
    {
      "cell_type": "code",
      "metadata": {
        "id": "C_yFxa10ndR3"
      },
      "source": [
        "train_featured = np.genfromtxt('ftrainf.csv', delimiter=',')\n",
        "test_featured = np.genfromtxt('ftestf.csv', delimiter=',')\n",
        "n_steps = 5  ##We set frame rate as 30\n",
        "n_features = test_featured.shape[1]"
      ],
      "execution_count": 109,
      "outputs": []
    },
    {
      "cell_type": "code",
      "metadata": {
        "id": "qbCxLsk-nkoT"
      },
      "source": [
        "test_featured = np.append(test_featured,feature_test_1,axis=1)\n",
        "train_featured = np.append(train_featured,feature_train_1,axis=1)\n",
        "test_featured = np.append(test_featured,feature_test_2,axis=1)\n",
        "train_featured = np.append(train_featured,feature_train_2,axis=1)"
      ],
      "execution_count": 110,
      "outputs": []
    },
    {
      "cell_type": "code",
      "metadata": {
        "colab": {
          "base_uri": "https://localhost:8080/"
        },
        "id": "WnPwGA8Knn43",
        "outputId": "0cca4b90-8ab8-404c-b6cd-d0af2ec4c7f2"
      },
      "source": [
        "train_featured.shape"
      ],
      "execution_count": 111,
      "outputs": [
        {
          "output_type": "execute_result",
          "data": {
            "text/plain": [
              "(105, 202)"
            ]
          },
          "metadata": {},
          "execution_count": 111
        }
      ]
    },
    {
      "cell_type": "code",
      "metadata": {
        "id": "oz18mpzBnoE2"
      },
      "source": [
        "temp = train_featured[:n_steps]\n",
        "temp = temp.reshape(1,n_steps,temp.shape[1])\n",
        "for i in range(n_steps,train_featured.shape[0],n_steps):\n",
        "  temp = np.append(temp,train_featured[i:i+n_steps].reshape(1,n_steps,train_featured.shape[1]),axis = 0)\n",
        "trainX = temp\n",
        "temp = test_featured[:n_steps]\n",
        "temp = temp.reshape(1,temp.shape[0],temp.shape[1])\n",
        "for i in range(n_steps,test_featured.shape[0],n_steps):\n",
        "  temp = np.append(temp,test_featured[i:i+n_steps].reshape(1,n_steps,test_featured.shape[1]),axis = 0)\n",
        "testX = temp"
      ],
      "execution_count": 112,
      "outputs": []
    },
    {
      "cell_type": "code",
      "metadata": {
        "colab": {
          "base_uri": "https://localhost:8080/"
        },
        "id": "SEajQU1mnoPY",
        "outputId": "c0726bff-ff5e-4714-db27-705ef253e8f1"
      },
      "source": [
        "trainX.shape"
      ],
      "execution_count": 113,
      "outputs": [
        {
          "output_type": "execute_result",
          "data": {
            "text/plain": [
              "(21, 5, 202)"
            ]
          },
          "metadata": {},
          "execution_count": 113
        }
      ]
    },
    {
      "cell_type": "code",
      "metadata": {
        "colab": {
          "base_uri": "https://localhost:8080/"
        },
        "id": "vikCSbIBnoUV",
        "outputId": "58750a98-7fa2-46a0-9f51-8b735ff993ff"
      },
      "source": [
        "train_datagen = tf.keras.preprocessing.image.ImageDataGenerator(\n",
        "      rescale = 1./255,\n",
        "      #validation_split=0.2,\n",
        "      shear_range = 0.2, # random application of shearing\n",
        "      zoom_range = 0.2,\n",
        "      horizontal_flip = True) # randomly flipping half of the images horizontally\n",
        "\n",
        "train_generator = train_datagen.flow_from_directory(\n",
        "    'train/',\n",
        "    target_size = (256, 256),\n",
        "    shuffle = False,\n",
        "    color_mode = \"rgb\")\n",
        "test_datagen = tf.keras.preprocessing.image.ImageDataGenerator(rescale = 1./255)\n",
        "validation_generator = test_datagen.flow_from_directory(\n",
        "    'test/',\n",
        "    target_size = (256, 256),\n",
        "    batch_size = 15,\n",
        "    shuffle=False,\n",
        "    color_mode = 'rgb')"
      ],
      "execution_count": 114,
      "outputs": [
        {
          "output_type": "stream",
          "name": "stdout",
          "text": [
            "Found 105 images belonging to 3 classes.\n",
            "Found 50 images belonging to 3 classes.\n"
          ]
        }
      ]
    },
    {
      "cell_type": "code",
      "metadata": {
        "id": "zQB_kZSinoYZ"
      },
      "source": [
        "y_train = []\n",
        "for i in train_generator.filenames:\n",
        "  if(i.split(\"/\")[0]==\"dribling\"):\n",
        "    y_train.append(-100) \n",
        "  elif(i.split(\"/\")[0]==\"headshot\"):\n",
        "    y_train.append(0)\n",
        "  elif(i.split(\"/\")[0]==\"kick\"):\n",
        "    y_train.append(100) \n",
        "\n",
        "y_test = []\n",
        "for i in validation_generator.filenames:\n",
        "  if(i.split(\"/\")[0]==\"dribling\"):\n",
        "    y_test.append(-100) \n",
        "  elif(i.split(\"/\")[0]==\"headshot\"):\n",
        "    y_test.append(0)\n",
        "  elif(i.split(\"/\")[0]==\"kick\"):\n",
        "    y_test.append(100) \n",
        "\n",
        "trainY=[]\n",
        "for i in range(0,len(y_train),n_steps):\n",
        "  trainY.append(y_train[i])\n",
        "testY=[]\n",
        "for i in range(0,len(y_test),n_steps):\n",
        "  testY.append(y_test[i])\n",
        "\n",
        "\n",
        "trainY = np.array(trainY)\n",
        "testY = np.array(testY)\n",
        "\n",
        "trainY=[]\n",
        "for i in range(0,len(y_train),n_steps):\n",
        "  trainY.append(y_train[i])\n",
        "testY=[]\n",
        "for i in range(0,len(y_test),n_steps):\n",
        "  testY.append(y_test[i])\n",
        "\n",
        "TRAINy = pd.DataFrame(trainY)\n",
        "TRAINy.columns = ['label']\n",
        "TRAINy['1']=0\n",
        "TRAINy['2']=0\n",
        "TRAINy['3']=0\n",
        "for i in TRAINy.loc[TRAINy['label']==-100].index:\n",
        "  TRAINy.loc[i,\"1\"]=1\n",
        "for i in TRAINy.loc[TRAINy['label']==0].index:\n",
        "  TRAINy.loc[i,\"2\"]=1\n",
        "for i in TRAINy.loc[TRAINy['label']==100].index:\n",
        "  TRAINy.loc[i,\"3\"]=1\n",
        "final_trainY =np.array(TRAINy[['1','2','3']])\n",
        "\n",
        "TESTy = pd.DataFrame(testY)\n",
        "TESTy.columns = ['label']\n",
        "TESTy['1']=0\n",
        "TESTy['2']=0\n",
        "TESTy['3']=0\n",
        "for i in TESTy.loc[TESTy['label']==-100].index:\n",
        "  TESTy.loc[i,\"1\"]=1\n",
        "for i in TESTy.loc[TESTy['label']==0].index:\n",
        "  TESTy.loc[i,\"2\"]=1\n",
        "for i in TESTy.loc[TESTy['label']==100].index:\n",
        "  TESTy.loc[i,\"3\"]=1\n",
        "final_testY = np.array(TESTy[['1','2','3']])"
      ],
      "execution_count": 115,
      "outputs": []
    },
    {
      "cell_type": "code",
      "metadata": {
        "colab": {
          "base_uri": "https://localhost:8080/"
        },
        "id": "GVZTy3YWnodt",
        "outputId": "83e09aa2-5f84-44af-e6fe-fe39e6e4916a"
      },
      "source": [
        "testX.shape"
      ],
      "execution_count": 116,
      "outputs": [
        {
          "output_type": "execute_result",
          "data": {
            "text/plain": [
              "(10, 5, 202)"
            ]
          },
          "metadata": {},
          "execution_count": 116
        }
      ]
    },
    {
      "cell_type": "code",
      "metadata": {
        "id": "vg9mLBV8nog-"
      },
      "source": [
        "model2 = models.Sequential()\n",
        "model2.add(layers.LSTM(500, activation='relu', return_sequences=True, input_shape=(n_steps, n_features+2)))\n",
        "model2.add(tf.keras.layers.BatchNormalization())\n",
        "model2.add(layers.LSTM(500, activation='relu'))\n",
        "model2.add(layers.Dense(3,activation=\"softmax\"))"
      ],
      "execution_count": 151,
      "outputs": []
    },
    {
      "cell_type": "code",
      "metadata": {
        "colab": {
          "base_uri": "https://localhost:8080/"
        },
        "id": "1p3rRGabnold",
        "outputId": "5e01e1b2-44f2-4382-e4ec-00ffe4ae81db"
      },
      "source": [
        "optimizer = tf.keras.optimizers.Adam(lr=1e-4, decay=1e-5)\n",
        "model2.compile(loss=tf.keras.losses.CategoricalCrossentropy(), optimizer='adam',\n",
        "                    metrics=['accuracy','top_k_categorical_accuracy'])\n",
        "#model2.load_weights(\"modelLstm.h5\")\n",
        "model2.fit(trainX,final_trainY,validation_data=(testX,final_testY),batch_size=8,epochs=20)\n",
        "model2.evaluate(testX,final_testY,batch_size = 8)\n",
        "model2.save(\"modelLstm.h5\")"
      ],
      "execution_count": 154,
      "outputs": [
        {
          "output_type": "stream",
          "name": "stderr",
          "text": [
            "/usr/local/lib/python3.7/dist-packages/keras/optimizer_v2/optimizer_v2.py:356: UserWarning: The `lr` argument is deprecated, use `learning_rate` instead.\n",
            "  \"The `lr` argument is deprecated, use `learning_rate` instead.\")\n"
          ]
        },
        {
          "output_type": "stream",
          "name": "stdout",
          "text": [
            "Epoch 1/20\n",
            "3/3 [==============================] - 3s 250ms/step - loss: 0.0306 - accuracy: 1.0000 - top_k_categorical_accuracy: 1.0000 - val_loss: 2.8519 - val_accuracy: 0.8000 - val_top_k_categorical_accuracy: 1.0000\n",
            "Epoch 2/20\n",
            "3/3 [==============================] - 0s 80ms/step - loss: 2.0689e-04 - accuracy: 1.0000 - top_k_categorical_accuracy: 1.0000 - val_loss: 3.7332 - val_accuracy: 0.7000 - val_top_k_categorical_accuracy: 1.0000\n",
            "Epoch 3/20\n",
            "3/3 [==============================] - 0s 74ms/step - loss: 0.0097 - accuracy: 1.0000 - top_k_categorical_accuracy: 1.0000 - val_loss: 3.1260 - val_accuracy: 0.7000 - val_top_k_categorical_accuracy: 1.0000\n",
            "Epoch 4/20\n",
            "3/3 [==============================] - 0s 84ms/step - loss: 2.1004e-07 - accuracy: 1.0000 - top_k_categorical_accuracy: 1.0000 - val_loss: 3.0745 - val_accuracy: 0.6000 - val_top_k_categorical_accuracy: 1.0000\n",
            "Epoch 5/20\n",
            "3/3 [==============================] - 0s 85ms/step - loss: 5.9540e-04 - accuracy: 1.0000 - top_k_categorical_accuracy: 1.0000 - val_loss: 1.9158 - val_accuracy: 0.7000 - val_top_k_categorical_accuracy: 1.0000\n",
            "Epoch 6/20\n",
            "3/3 [==============================] - 0s 86ms/step - loss: 9.0481e-06 - accuracy: 1.0000 - top_k_categorical_accuracy: 1.0000 - val_loss: 1.8556 - val_accuracy: 0.6000 - val_top_k_categorical_accuracy: 1.0000\n",
            "Epoch 7/20\n",
            "3/3 [==============================] - 0s 87ms/step - loss: 0.0146 - accuracy: 1.0000 - top_k_categorical_accuracy: 1.0000 - val_loss: 1.8829 - val_accuracy: 0.6000 - val_top_k_categorical_accuracy: 1.0000\n",
            "Epoch 8/20\n",
            "3/3 [==============================] - 0s 78ms/step - loss: 1.2721e-05 - accuracy: 1.0000 - top_k_categorical_accuracy: 1.0000 - val_loss: 1.9163 - val_accuracy: 0.8000 - val_top_k_categorical_accuracy: 1.0000\n",
            "Epoch 9/20\n",
            "3/3 [==============================] - 0s 78ms/step - loss: 0.3917 - accuracy: 0.9524 - top_k_categorical_accuracy: 1.0000 - val_loss: 1.5346 - val_accuracy: 0.7000 - val_top_k_categorical_accuracy: 1.0000\n",
            "Epoch 10/20\n",
            "3/3 [==============================] - 0s 81ms/step - loss: 0.0819 - accuracy: 0.9524 - top_k_categorical_accuracy: 1.0000 - val_loss: 1.9043 - val_accuracy: 0.7000 - val_top_k_categorical_accuracy: 1.0000\n",
            "Epoch 11/20\n",
            "3/3 [==============================] - 0s 81ms/step - loss: 2.1571e-07 - accuracy: 1.0000 - top_k_categorical_accuracy: 1.0000 - val_loss: 5.6813 - val_accuracy: 0.6000 - val_top_k_categorical_accuracy: 1.0000\n",
            "Epoch 12/20\n",
            "3/3 [==============================] - 0s 79ms/step - loss: 5.6766e-08 - accuracy: 1.0000 - top_k_categorical_accuracy: 1.0000 - val_loss: 10.4022 - val_accuracy: 0.5000 - val_top_k_categorical_accuracy: 1.0000\n",
            "Epoch 13/20\n",
            "3/3 [==============================] - 0s 82ms/step - loss: 1.3448 - accuracy: 0.9048 - top_k_categorical_accuracy: 1.0000 - val_loss: 11.1121 - val_accuracy: 0.5000 - val_top_k_categorical_accuracy: 1.0000\n",
            "Epoch 14/20\n",
            "3/3 [==============================] - 0s 81ms/step - loss: 1.0466 - accuracy: 0.9048 - top_k_categorical_accuracy: 1.0000 - val_loss: 4.8168 - val_accuracy: 0.5000 - val_top_k_categorical_accuracy: 1.0000\n",
            "Epoch 15/20\n",
            "3/3 [==============================] - 0s 85ms/step - loss: 3.1688e-05 - accuracy: 1.0000 - top_k_categorical_accuracy: 1.0000 - val_loss: 1.7467 - val_accuracy: 0.6000 - val_top_k_categorical_accuracy: 1.0000\n",
            "Epoch 16/20\n",
            "3/3 [==============================] - 0s 74ms/step - loss: 0.0536 - accuracy: 0.9524 - top_k_categorical_accuracy: 1.0000 - val_loss: 0.9723 - val_accuracy: 0.7000 - val_top_k_categorical_accuracy: 1.0000\n",
            "Epoch 17/20\n",
            "3/3 [==============================] - 0s 79ms/step - loss: 1.9568e-04 - accuracy: 1.0000 - top_k_categorical_accuracy: 1.0000 - val_loss: 0.7738 - val_accuracy: 0.7000 - val_top_k_categorical_accuracy: 1.0000\n",
            "Epoch 18/20\n",
            "3/3 [==============================] - 0s 80ms/step - loss: 4.2114e-05 - accuracy: 1.0000 - top_k_categorical_accuracy: 1.0000 - val_loss: 1.0193 - val_accuracy: 0.8000 - val_top_k_categorical_accuracy: 1.0000\n",
            "Epoch 19/20\n",
            "3/3 [==============================] - 0s 83ms/step - loss: 0.0107 - accuracy: 1.0000 - top_k_categorical_accuracy: 1.0000 - val_loss: 1.2735 - val_accuracy: 0.8000 - val_top_k_categorical_accuracy: 1.0000\n",
            "Epoch 20/20\n",
            "3/3 [==============================] - 0s 80ms/step - loss: 4.2684e-05 - accuracy: 1.0000 - top_k_categorical_accuracy: 1.0000 - val_loss: 1.4148 - val_accuracy: 0.8000 - val_top_k_categorical_accuracy: 1.0000\n",
            "2/2 [==============================] - 0s 13ms/step - loss: 1.4148 - accuracy: 0.8000 - top_k_categorical_accuracy: 1.0000\n"
          ]
        }
      ]
    },
    {
      "cell_type": "code",
      "metadata": {
        "colab": {
          "base_uri": "https://localhost:8080/"
        },
        "id": "9aGAPauErasY",
        "outputId": "5ea77219-d628-49b5-a010-2a41cb6378e0"
      },
      "source": [
        "model2.evaluate(testX,final_testY,batch_size = 8)"
      ],
      "execution_count": 156,
      "outputs": [
        {
          "output_type": "stream",
          "name": "stdout",
          "text": [
            "2/2 [==============================] - 0s 12ms/step - loss: 1.4148 - accuracy: 0.8000 - top_k_categorical_accuracy: 1.0000\n"
          ]
        },
        {
          "output_type": "execute_result",
          "data": {
            "text/plain": [
              "[1.414771556854248, 0.800000011920929, 1.0]"
            ]
          },
          "metadata": {},
          "execution_count": 156
        }
      ]
    },
    {
      "cell_type": "code",
      "metadata": {
        "colab": {
          "base_uri": "https://localhost:8080/"
        },
        "id": "DkeIpGV7notZ",
        "outputId": "3d6ab71d-865c-4315-f0bb-43b442fa29a5"
      },
      "source": [
        "import cv2\n",
        "from tensorflow import keras\n",
        "from keras.preprocessing import image\n",
        "\n",
        "#model1=load_model(\"modelCNN.h5\")\n",
        "model2 = load_model(\"/content/drive/MyDrive/dataset/modelLstm.h5\")\n",
        "\n",
        "imagePath = 'test/headshot/headshot_g19c21_frame34.jpg'\n",
        "img_width, img_height = 256, 256\n",
        "img = image.load_img(imagePath, target_size = (img_width, img_height))\n",
        "img = image.img_to_array(img)\n",
        "img = np.expand_dims(img, axis = 0)\n",
        "\n",
        "a = model1.predict(img)\n",
        "\n",
        "print(a)\n",
        "if a[0][2]==1:\n",
        "    print('kick')\n",
        "elif a[0][0]==1:\n",
        "    print('dribling')\n",
        "elif a[0][1]==1:\n",
        "    print('headshot')"
      ],
      "execution_count": 159,
      "outputs": [
        {
          "output_type": "stream",
          "name": "stdout",
          "text": [
            "[[0. 1. 0.]]\n",
            "headshot\n"
          ]
        }
      ]
    },
    {
      "cell_type": "code",
      "metadata": {
        "id": "dK56BYwqPn-W",
        "outputId": "6804bb5c-9363-4405-8de8-20e66fa7bb48",
        "colab": {
          "base_uri": "https://localhost:8080/"
        }
      },
      "source": [
        "import cv2\n",
        "from tensorflow import keras\n",
        "from keras.preprocessing import image\n",
        "\n",
        "#model1=load_model(\"modelCNN.h5\")\n",
        "model2 = load_model(\"/content/drive/MyDrive/dataset/modelLstm.h5\")\n",
        "\n",
        "imagePath = 'test/dribling/dribling_g22c1_frame18.jpg'\n",
        "img_width, img_height = 256, 256\n",
        "img = image.load_img(imagePath, target_size = (img_width, img_height))\n",
        "img = image.img_to_array(img)\n",
        "img = np.expand_dims(img, axis = 0)\n",
        "\n",
        "a = model1.predict(img)\n",
        "\n",
        "print(a)\n",
        "if a[0][2]==1:\n",
        "    print('kick')\n",
        "elif a[0][0]==1:\n",
        "    print('dribling')\n",
        "elif a[0][1]==1:\n",
        "    print('headshot')"
      ],
      "execution_count": 160,
      "outputs": [
        {
          "output_type": "stream",
          "name": "stdout",
          "text": [
            "[[1. 0. 0.]]\n",
            "dribling\n"
          ]
        }
      ]
    }
  ]
}