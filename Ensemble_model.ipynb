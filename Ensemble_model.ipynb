{
  "nbformat": 4,
  "nbformat_minor": 0,
  "metadata": {
    "colab": {
      "name": "Ensemble_model.ipynb",
      "provenance": []
    },
    "kernelspec": {
      "name": "python3",
      "display_name": "Python 3"
    },
    "language_info": {
      "name": "python"
    }
  },
  "cells": [
    {
      "cell_type": "code",
      "metadata": {
        "id": "4Y83BM7WG9KA"
      },
      "source": [
        ""
      ],
      "execution_count": null,
      "outputs": []
    },
    {
      "cell_type": "code",
      "metadata": {
        "colab": {
          "base_uri": "https://localhost:8080/"
        },
        "id": "zh75XF8-Zlz1",
        "outputId": "f99947b4-b9b6-4220-8d63-a80149c5cfa8"
      },
      "source": [
        "from google.colab import drive\n",
        "drive.mount('/content/drive')"
      ],
      "execution_count": 1,
      "outputs": [
        {
          "output_type": "stream",
          "name": "stdout",
          "text": [
            "Mounted at /content/drive\n"
          ]
        }
      ]
    },
    {
      "cell_type": "code",
      "metadata": {
        "id": "nBfQqryMiF_D"
      },
      "source": [
        "import numpy as np # linear algebra\n",
        "import pandas as pd # data processing, CSV file I/O (e.g. pd.read_csv)\n",
        "import os\n",
        "import matplotlib.pyplot as plt\n",
        "import seaborn as sns\n",
        "import tensorflow as tf\n",
        "import keras\n",
        "from PIL import Image\n",
        "from keras.preprocessing import image\n",
        "from keras.models import Sequential\n",
        "from keras.layers import Conv2D, MaxPool2D, Flatten,Dense,Dropout,BatchNormalization\n",
        "from tensorflow.keras.preprocessing.image import ImageDataGenerator\n",
        "\n",
        "from keras.layers import Input, Lambda, Dense, Flatten\n",
        "from tensorflow.keras.applications import VGG16, InceptionResNetV2 , VGG19\n",
        "from keras import regularizers\n",
        "from tensorflow.keras.optimizers import Adam,RMSprop,SGD,Adamax\n",
        "from PIL import ImageFile\n",
        "from keras.models import load_model\n",
        "from sklearn.metrics import accuracy_score"
      ],
      "execution_count": 2,
      "outputs": []
    },
    {
      "cell_type": "code",
      "metadata": {
        "id": "AFohyLpgj2cD"
      },
      "source": [
        "ImageFile.LOAD_TRUNCATED_IMAGES = True\n",
        "train_dir = '/content/drive/MyDrive/dataset/train'\n",
        "test_dir = '/content/drive/MyDrive/dataset/test'"
      ],
      "execution_count": 3,
      "outputs": []
    },
    {
      "cell_type": "code",
      "metadata": {
        "id": "p0_6_ynBj2C-"
      },
      "source": [
        "train_datagen = ImageDataGenerator(width_shift_range = 0.1,\n",
        "                                  horizontal_flip = True,\n",
        "                                  rescale = 1./255,\n",
        "                                  validation_split = 0.2)\n",
        "test_datagen = ImageDataGenerator(rescale =1./255,\n",
        "                                 validation_split = 0.2)"
      ],
      "execution_count": 4,
      "outputs": []
    },
    {
      "cell_type": "code",
      "metadata": {
        "colab": {
          "base_uri": "https://localhost:8080/"
        },
        "id": "l609VZUmkdm_",
        "outputId": "b2bb90a8-c3a0-4e17-bf16-61720f5dd9d5"
      },
      "source": [
        "train_generator = train_datagen.flow_from_directory(directory = train_dir,\n",
        "                                                   target_size = (224,224),\n",
        "                                                   color_mode = 'rgb',\n",
        "                                                   class_mode = 'categorical',\n",
        "                                                    batch_size = 866,\n",
        "                                                   subset = 'training')\n",
        "validation_generator = test_datagen.flow_from_directory(directory = test_dir,\n",
        "                                                       target_size = (224,224),\n",
        "                                                       color_mode = 'rgb',\n",
        "                                                       class_mode = 'categorical',\n",
        "                                                       batch_size = 92,\n",
        "                                                       subset = 'validation')"
      ],
      "execution_count": 5,
      "outputs": [
        {
          "output_type": "stream",
          "name": "stdout",
          "text": [
            "Found 1966 images belonging to 3 classes.\n",
            "Found 221 images belonging to 3 classes.\n"
          ]
        }
      ]
    },
    {
      "cell_type": "code",
      "metadata": {
        "id": "AsmbgqdQjkJL"
      },
      "source": [
        "x_train,y_train = next(train_generator)\n",
        "x_test,y_test = next(validation_generator)"
      ],
      "execution_count": 6,
      "outputs": []
    },
    {
      "cell_type": "code",
      "metadata": {
        "id": "JSGbgjz0ih02"
      },
      "source": [
        "model1 = load_model('/content/drive/MyDrive/dataset/model1_cnn.h5')\n",
        "model2 = load_model('/content/drive/MyDrive/dataset/model2_cnn_dropouts.h5')\n",
        "model3 = load_model('/content/drive/MyDrive/dataset/model4_SVM.h5')"
      ],
      "execution_count": 7,
      "outputs": []
    },
    {
      "cell_type": "code",
      "metadata": {
        "id": "xlqW2wwenWVC"
      },
      "source": [
        "models = [model1,model2,model3]\n",
        "\n",
        "preds = [model.predict(x_test) for model in models]\n",
        "preds = np.array(preds)"
      ],
      "execution_count": 8,
      "outputs": []
    },
    {
      "cell_type": "code",
      "metadata": {
        "id": "CaS5Mr_RncxU"
      },
      "source": [
        "\n",
        "def predict_classes(model,x_test):\n",
        "  pred = preds[model]\n",
        "  return np.argmax(pred,axis =1)\n",
        "\n",
        "prediction1 = predict_classes(0,x_test)\n",
        "prediction2 =predict_classes(1,x_test)\n",
        "prediction3 = predict_classes(2,x_test)\n"
      ],
      "execution_count": 9,
      "outputs": []
    },
    {
      "cell_type": "code",
      "metadata": {
        "colab": {
          "base_uri": "https://localhost:8080/",
          "height": 513
        },
        "id": "wkBuG8_aAmp1",
        "outputId": "95faa0d2-f186-44d1-c2f6-d1b5cbf0893b"
      },
      "source": [
        "from sklearn.metrics import confusion_matrix\n",
        "import seaborn as sns\n",
        "class_names = []\n",
        "for dir in os.listdir(train_dir):\n",
        "    class_names.append(dir) # append the folder name, the class\n",
        "# define the matrix with the real classes and the predicted\n",
        "m = confusion_matrix(np.argmax(y_test,axis =1), prediction1)\n",
        "# the labels for the plot\n",
        "labels = class_names\n",
        "plt.figure(figsize=(20, 8))\n",
        "# create the plot\n",
        "heatmap = sns.heatmap(m, xticklabels=labels, yticklabels=labels, annot=True, fmt='d', color='blue')\n",
        "# labels for the axes\n",
        "plt.xlabel('Predicted Class')\n",
        "plt.ylabel('True Class')\n",
        "plt.title('Confusion Matrix')\n",
        "plt.show()"
      ],
      "execution_count": 14,
      "outputs": [
        {
          "output_type": "display_data",
          "data": {
            "image/png": "[encoded data removed]",
            "text/plain": [
              "<Figure size 1440x576 with 2 Axes>"
            ]
          },
          "metadata": {
            "needs_background": "light"
          }
        }
      ]
    },
    {
      "cell_type": "code",
      "metadata": {
        "colab": {
          "base_uri": "https://localhost:8080/",
          "height": 513
        },
        "id": "Pt7qOl1yBFkz",
        "outputId": "0462d28b-ca81-4cc8-df20-aa1a46eb8c7f"
      },
      "source": [
        "m = confusion_matrix(np.argmax(y_test,axis =1), prediction2)\n",
        "# the labels for the plot\n",
        "labels = class_names\n",
        "plt.figure(figsize=(20, 8))\n",
        "# create the plot\n",
        "heatmap = sns.heatmap(m, xticklabels=labels, yticklabels=labels, annot=True, fmt='d', color='blue')\n",
        "# labels for the axes\n",
        "plt.xlabel('Predicted Class')\n",
        "plt.ylabel('True Class')\n",
        "plt.title('Confusion Matrix')\n",
        "plt.show()"
      ],
      "execution_count": 16,
      "outputs": [
        {
          "output_type": "display_data",
          "data": {
            "image/png": "[encoded data removed]",
            "text/plain": [
              "<Figure size 1440x576 with 2 Axes>"
            ]
          },
          "metadata": {
            "needs_background": "light"
          }
        }
      ]
    },
    {
      "cell_type": "markdown",
      "metadata": {
        "id": "hkV8cwJVxFkH"
      },
      "source": [
        "## **Averaging**"
      ]
    },
    {
      "cell_type": "code",
      "metadata": {
        "colab": {
          "base_uri": "https://localhost:8080/"
        },
        "id": "1CqZLg_bs0Ng",
        "outputId": "f28cf047-4958-4b9a-cd75-920a3bbcd2d1"
      },
      "source": [
        "summed = np.sum(preds,axis = 0)\n",
        "avg_ensemble_prediction = summed/3\n",
        "avg_ensemble_prediction = np.argmax(avg_ensemble_prediction,axis=1)\n",
        "accuracy_1 = accuracy_score(np.argmax(y_test,axis=1),prediction1)\n",
        "accuracy_2 = accuracy_score(np.argmax(y_test,axis=1),prediction2)\n",
        "accuracy_3 = accuracy_score(np.argmax(y_test,axis=1),prediction3)\n",
        "avg_ensemble_accuracy = accuracy_score(np.argmax(y_test,axis=1),avg_ensemble_prediction)\n",
        "\n",
        "\n",
        "print(f'Individual Accuracies - \\n\\nModel 1 : {accuracy_1}\\nModel 2 : {accuracy_2}\\nModel 3 : {accuracy_3}\\n\\n Ensemble Accuracy with averaging: {avg_ensemble_accuracy}')\n"
      ],
      "execution_count": 11,
      "outputs": [
        {
          "output_type": "stream",
          "name": "stdout",
          "text": [
            "Individual Accuracies - \n",
            "\n",
            "Model 1 : 0.717391304347826\n",
            "Model 2 : 0.7717391304347826\n",
            "Model 3 : 0.6413043478260869\n",
            "\n",
            " Ensemble Accuracy with averaging: 0.7717391304347826\n"
          ]
        }
      ]
    },
    {
      "cell_type": "markdown",
      "metadata": {
        "id": "kclowwR9x-J6"
      },
      "source": [
        "## **Weighted Averaging**"
      ]
    },
    {
      "cell_type": "code",
      "metadata": {
        "colab": {
          "base_uri": "https://localhost:8080/"
        },
        "id": "-bMBiI3QyDU_",
        "outputId": "1cf42f98-e25d-4063-e9fe-83b270f8eed6"
      },
      "source": [
        "weights = [0.4,0.4,0.4]\n",
        "weighted_preds = np.tensordot(preds,weights,((0),(0)))\n",
        "weighted_ensemble_prediction = np.argmax(weighted_preds,axis=1)\n",
        "wt_avg_ensemble_accuracy = accuracy_score(np.argmax(y_test,axis=1),weighted_ensemble_prediction)\n",
        "\n",
        "print(f'Individual Accuracies - \\n\\nModel 1 : {accuracy_1}\\nModel 2 : {accuracy_2}\\nModel 3 : {accuracy_3}n\\n Ensemble Accuracy with weighted averaging: {wt_avg_ensemble_accuracy}')\n",
        "\n"
      ],
      "execution_count": 12,
      "outputs": [
        {
          "output_type": "stream",
          "name": "stdout",
          "text": [
            "Individual Accuracies - \n",
            "\n",
            "Model 1 : 0.717391304347826\n",
            "Model 2 : 0.7717391304347826\n",
            "Model 3 : 0.6413043478260869n\n",
            " Ensemble Accuracy with weighted averaging: 0.7717391304347826\n"
          ]
        }
      ]
    },
    {
      "cell_type": "markdown",
      "metadata": {
        "id": "fzARspeSEANA"
      },
      "source": [
        "##**Choose max predicted** "
      ]
    },
    {
      "cell_type": "code",
      "metadata": {
        "colab": {
          "base_uri": "https://localhost:8080/"
        },
        "id": "mY7BGMSED_vW",
        "outputId": "49f2de00-32c7-4300-a270-9bf9d1680120"
      },
      "source": [
        "from statistics import mode\n",
        "max_voted_predictions = []\n",
        "def choose_max_voted(li,fallback):\n",
        "  m = 0\n",
        "  try:\n",
        "    m = mode(li)\n",
        "    return m\n",
        "  except:\n",
        "    m = fallback\n",
        "    return m\n",
        "for i in range(prediction1.size):\n",
        "  max_voted_predictions.append(choose_max_voted([prediction1[i],prediction2[i],prediction3[i]],prediction3[i]))\n",
        "\n",
        "max_voted_accuracy= accuracy_score(np.argmax(y_test,axis=1),max_voted_predictions)\n",
        "\n",
        "print(f'Individual Accuracies - \\n\\nModel 1 : {accuracy_1}\\nModel 2 : {accuracy_2}\\nModel 3 : {accuracy_3}\\n\\n Ensemble Accuracy with max voting: {wt_avg_ensemble_accuracy}')\n"
      ],
      "execution_count": 17,
      "outputs": [
        {
          "output_type": "stream",
          "name": "stdout",
          "text": [
            "Individual Accuracies - \n",
            "\n",
            "Model 1 : 0.717391304347826\n",
            "Model 2 : 0.7717391304347826\n",
            "Model 3 : 0.6413043478260869\n",
            "\n",
            " Ensemble Accuracy with max voting: 0.7717391304347826\n"
          ]
        }
      ]
    }
  ]
}