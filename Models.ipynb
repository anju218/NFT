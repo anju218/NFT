{
  "nbformat": 4,
  "nbformat_minor": 0,
  "metadata": {
    "colab": {
      "name": "Models.ipynb",
      "provenance": []
    },
    "kernelspec": {
      "name": "python3",
      "display_name": "Python 3"
    },
    "language_info": {
      "name": "python"
    }
  },
  "cells": [
    {
      "cell_type": "code",
      "metadata": {
        "id": "8fy2yJwtG0Mv"
      },
      "source": [
        ""
      ],
      "execution_count": null,
      "outputs": []
    },
    {
      "cell_type": "code",
      "metadata": {
        "id": "c71b1f87"
      },
      "source": [
        "import numpy as np # linear algebra\n",
        "import pandas as pd # data processing, CSV file I/O (e.g. pd.read_csv)\n",
        "import os\n",
        "import matplotlib.pyplot as plt\n",
        "import seaborn as sns\n",
        "import tensorflow as tf\n",
        "import keras\n",
        "from PIL import Image\n",
        "from keras.preprocessing import image\n",
        "from keras.models import Sequential\n",
        "from keras.layers import Conv2D, MaxPool2D, Flatten,Dense,Dropout,BatchNormalization\n",
        "from tensorflow.keras.preprocessing.image import ImageDataGenerator\n",
        "\n",
        "from keras.layers import Input, Lambda, Dense, Flatten\n",
        "from tensorflow.keras.applications import VGG16, InceptionResNetV2 , VGG19\n",
        "from keras import regularizers\n",
        "from tensorflow.keras.optimizers import Adam,RMSprop,SGD,Adamax"
      ],
      "execution_count": 28,
      "outputs": []
    },
    {
      "cell_type": "code",
      "metadata": {
        "colab": {
          "base_uri": "https://localhost:8080/"
        },
        "id": "PdRjyizwHKTf",
        "outputId": "2375eed3-e65a-467c-906b-c74840bf9221"
      },
      "source": [
        "from google.colab import drive\n",
        "drive.mount('/content/drive')"
      ],
      "execution_count": 29,
      "outputs": [
        {
          "output_type": "stream",
          "name": "stdout",
          "text": [
            "Drive already mounted at /content/drive; to attempt to forcibly remount, call drive.mount(\"/content/drive\", force_remount=True).\n"
          ]
        }
      ]
    },
    {
      "cell_type": "code",
      "metadata": {
        "id": "22acb139"
      },
      "source": [
        "from PIL import ImageFile\n",
        "ImageFile.LOAD_TRUNCATED_IMAGES = True"
      ],
      "execution_count": 30,
      "outputs": []
    },
    {
      "cell_type": "code",
      "metadata": {
        "id": "0890b10c"
      },
      "source": [
        "train_dir = '/content/drive/MyDrive/dataset/train'\n",
        "test_dir = '/content/drive/MyDrive/dataset/test'"
      ],
      "execution_count": 35,
      "outputs": []
    },
    {
      "cell_type": "code",
      "metadata": {
        "id": "9659442d"
      },
      "source": [
        "train_datagen = ImageDataGenerator(width_shift_range = 0.1,\n",
        "                                  horizontal_flip = True,\n",
        "                                  rescale = 1./255,\n",
        "                                  validation_split = 0.2)\n",
        "test_datagen = ImageDataGenerator(rescale =1./255,\n",
        "                                 validation_split = 0.2)"
      ],
      "execution_count": 36,
      "outputs": []
    },
    {
      "cell_type": "code",
      "metadata": {
        "id": "0d856ac4",
        "colab": {
          "base_uri": "https://localhost:8080/"
        },
        "outputId": "9e8dbac8-b23f-4d3e-aa6c-d67fb69b7bc9"
      },
      "source": [
        "train_generator = train_datagen.flow_from_directory(directory = train_dir,\n",
        "                                                   target_size = (224,224),\n",
        "                                                   color_mode = 'rgb',\n",
        "                                                   class_mode = 'categorical',\n",
        "                                                    batch_size = 16,\n",
        "                                                   subset = 'training')\n",
        "validation_generator = test_datagen.flow_from_directory(directory = test_dir,\n",
        "                                                       target_size = (224,224),\n",
        "                                                       color_mode = 'rgb',\n",
        "                                                       class_mode = 'categorical',\n",
        "                                                       batch_size = 16,\n",
        "                                                       subset = 'validation')"
      ],
      "execution_count": 37,
      "outputs": [
        {
          "output_type": "stream",
          "name": "stdout",
          "text": [
            "Found 1966 images belonging to 3 classes.\n",
            "Found 221 images belonging to 3 classes.\n"
          ]
        }
      ]
    },
    {
      "cell_type": "markdown",
      "metadata": {
        "id": "c522617c"
      },
      "source": [
        "## CNN Model"
      ]
    },
    {
      "cell_type": "code",
      "metadata": {
        "id": "e9d28103"
      },
      "source": [
        "from tensorflow.keras.layers import InputLayer,Conv2D,MaxPooling2D,Flatten,Dense,Dropout\n",
        "model = Sequential([\n",
        "    # the imput shape must be defined\n",
        "   InputLayer(input_shape=[224,224, 3]),\n",
        "\n",
        "   Conv2D(filters=16, kernel_size=3, padding='same', activation='relu'),\n",
        "    MaxPooling2D(),\n",
        "\n",
        "   Conv2D(32, 3, padding='same', activation='relu'),\n",
        "    MaxPooling2D(),\n",
        "\n",
        "    Conv2D(64, 3, padding='same', activation='relu'),\n",
        "    MaxPooling2D(),\n",
        "    Conv2D(128, 3, padding='same', activation='relu'),\n",
        "    MaxPooling2D(),\n",
        "\n",
        "   Flatten(),\n",
        "    \n",
        "    Dense(256, activation='relu'),\n",
        "   Dropout(0.3), # this layer turn off random neurons each step\n",
        "    # it helps to improve the model and helps to prevent overfitting\n",
        "    \n",
        "    Dense(256, activation='relu'),\n",
        "    Dropout(0.3),\n",
        "    \n",
        "    Dense(3, activation='softmax')\n",
        "])\n",
        "\n",
        "model.compile(\n",
        "    optimizer='adam',\n",
        "    loss='categorical_crossentropy',\n",
        "    metrics=['accuracy']\n",
        ")"
      ],
      "execution_count": 38,
      "outputs": []
    },
    {
      "cell_type": "code",
      "metadata": {
        "id": "4dc33811",
        "colab": {
          "base_uri": "https://localhost:8080/"
        },
        "outputId": "724835cf-04eb-4af5-f04e-49fbca4493b4"
      },
      "source": [
        "model.summary()"
      ],
      "execution_count": 39,
      "outputs": [
        {
          "output_type": "stream",
          "name": "stdout",
          "text": [
            "Model: \"sequential_5\"\n",
            "_________________________________________________________________\n",
            " Layer (type)                Output Shape              Param #   \n",
            "=================================================================\n",
            " conv2d_20 (Conv2D)          (None, 224, 224, 16)      448       \n",
            "                                                                 \n",
            " max_pooling2d_20 (MaxPoolin  (None, 112, 112, 16)     0         \n",
            " g2D)                                                            \n",
            "                                                                 \n",
            " conv2d_21 (Conv2D)          (None, 112, 112, 32)      4640      \n",
            "                                                                 \n",
            " max_pooling2d_21 (MaxPoolin  (None, 56, 56, 32)       0         \n",
            " g2D)                                                            \n",
            "                                                                 \n",
            " conv2d_22 (Conv2D)          (None, 56, 56, 64)        18496     \n",
            "                                                                 \n",
            " max_pooling2d_22 (MaxPoolin  (None, 28, 28, 64)       0         \n",
            " g2D)                                                            \n",
            "                                                                 \n",
            " conv2d_23 (Conv2D)          (None, 28, 28, 128)       73856     \n",
            "                                                                 \n",
            " max_pooling2d_23 (MaxPoolin  (None, 14, 14, 128)      0         \n",
            " g2D)                                                            \n",
            "                                                                 \n",
            " flatten_5 (Flatten)         (None, 25088)             0         \n",
            "                                                                 \n",
            " dense_15 (Dense)            (None, 256)               6422784   \n",
            "                                                                 \n",
            " dropout_16 (Dropout)        (None, 256)               0         \n",
            "                                                                 \n",
            " dense_16 (Dense)            (None, 256)               65792     \n",
            "                                                                 \n",
            " dropout_17 (Dropout)        (None, 256)               0         \n",
            "                                                                 \n",
            " dense_17 (Dense)            (None, 3)                 771       \n",
            "                                                                 \n",
            "=================================================================\n",
            "Total params: 6,586,787\n",
            "Trainable params: 6,586,787\n",
            "Non-trainable params: 0\n",
            "_________________________________________________________________\n"
          ]
        }
      ]
    },
    {
      "cell_type": "code",
      "metadata": {
        "scrolled": true,
        "id": "c5cbfc63",
        "colab": {
          "base_uri": "https://localhost:8080/"
        },
        "outputId": "4cb3e041-4e8e-4bc1-d3c6-f241c1431fbe"
      },
      "source": [
        "history = model.fit(\n",
        "    train_generator,\n",
        "    validation_data = validation_generator,\n",
        "    epochs = 10,\n",
        ") "
      ],
      "execution_count": 42,
      "outputs": [
        {
          "output_type": "stream",
          "name": "stdout",
          "text": [
            "Epoch 1/10\n",
            "123/123 [==============================] - 1339s 11s/step - loss: 0.4601 - accuracy: 0.7940 - val_loss: 0.9008 - val_accuracy: 0.7195\n",
            "Epoch 2/10\n",
            "123/123 [==============================] - 121s 984ms/step - loss: 0.1187 - accuracy: 0.9588 - val_loss: 1.9901 - val_accuracy: 0.6018\n",
            "Epoch 3/10\n",
            "123/123 [==============================] - 119s 967ms/step - loss: 0.0788 - accuracy: 0.9710 - val_loss: 1.7846 - val_accuracy: 0.5430\n",
            "Epoch 4/10\n",
            "123/123 [==============================] - 119s 964ms/step - loss: 0.0199 - accuracy: 0.9929 - val_loss: 2.9436 - val_accuracy: 0.5339\n",
            "Epoch 5/10\n",
            "123/123 [==============================] - 120s 973ms/step - loss: 0.0334 - accuracy: 0.9878 - val_loss: 2.7237 - val_accuracy: 0.7014\n",
            "Epoch 6/10\n",
            "123/123 [==============================] - 119s 965ms/step - loss: 0.1939 - accuracy: 0.9476 - val_loss: 1.2313 - val_accuracy: 0.5882\n",
            "Epoch 7/10\n",
            "123/123 [==============================] - 119s 963ms/step - loss: 0.0458 - accuracy: 0.9837 - val_loss: 1.5228 - val_accuracy: 0.7195\n",
            "Epoch 8/10\n",
            "123/123 [==============================] - 119s 965ms/step - loss: 0.0355 - accuracy: 0.9898 - val_loss: 1.3492 - val_accuracy: 0.7104\n",
            "Epoch 9/10\n",
            "123/123 [==============================] - 118s 961ms/step - loss: 0.0197 - accuracy: 0.9959 - val_loss: 2.1163 - val_accuracy: 0.6516\n",
            "Epoch 10/10\n",
            "123/123 [==============================] - 118s 959ms/step - loss: 0.0256 - accuracy: 0.9914 - val_loss: 1.7213 - val_accuracy: 0.6606\n"
          ]
        }
      ]
    },
    {
      "cell_type": "code",
      "metadata": {
        "id": "tXfNyWGkL6ZK"
      },
      "source": [
        "os.chdir('/content/drive/MyDrive/dataset/')"
      ],
      "execution_count": 43,
      "outputs": []
    },
    {
      "cell_type": "code",
      "metadata": {
        "id": "0273df77"
      },
      "source": [
        "model.save(\"model1_cnn.h5\")"
      ],
      "execution_count": 44,
      "outputs": []
    },
    {
      "cell_type": "markdown",
      "metadata": {
        "id": "85772c50"
      },
      "source": [
        "## CNN Model With Dropouts "
      ]
    },
    {
      "cell_type": "code",
      "metadata": {
        "id": "12aefa09"
      },
      "source": [
        "model = Sequential([\n",
        "    # the imput shape must be defined\n",
        "   InputLayer(input_shape=[224,224, 3]),\n",
        "\n",
        "   Conv2D(filters=16, kernel_size=3, padding='same', activation='relu'),\n",
        "    Dropout(0.2),\n",
        "    MaxPooling2D(),\n",
        "\n",
        "   Conv2D(32, 3, padding='same', activation='relu'),\n",
        "    Dropout(0.2),\n",
        "    MaxPooling2D(),\n",
        "\n",
        "    Conv2D(64, 3, padding='same', activation='relu'),\n",
        "    Dropout(0.2),\n",
        "    MaxPooling2D(),\n",
        "    Conv2D(128, 3, padding='same', activation='relu'),\n",
        "    Dropout(0.2),\n",
        "    MaxPooling2D(),\n",
        "\n",
        "    Flatten(),\n",
        "    \n",
        "    Dense(256, activation='relu'),\n",
        "    Dropout(0.3), # this layer turn off random neurons each step\n",
        "    # it helps to improve the model and helps to prevent overfitting\n",
        "    \n",
        "    Dense(256, activation='relu'),\n",
        "    Dropout(0.3),\n",
        "    \n",
        "    Dense(3, activation='softmax')\n",
        "])\n",
        "\n",
        "model.compile(\n",
        "    optimizer='adam',\n",
        "    loss='categorical_crossentropy',\n",
        "    metrics=['accuracy']\n",
        ")"
      ],
      "execution_count": 45,
      "outputs": []
    },
    {
      "cell_type": "code",
      "metadata": {
        "id": "f6792d57",
        "colab": {
          "base_uri": "https://localhost:8080/"
        },
        "outputId": "9245eac1-5e33-4c6c-8d1a-10111e1c7466"
      },
      "source": [
        "history = model.fit(\n",
        "    train_generator,\n",
        "    validation_data = validation_generator,\n",
        "    epochs = 5,\n",
        ")"
      ],
      "execution_count": 46,
      "outputs": [
        {
          "output_type": "stream",
          "name": "stdout",
          "text": [
            "Epoch 1/5\n",
            "123/123 [==============================] - 151s 1s/step - loss: 0.4362 - accuracy: 0.8230 - val_loss: 0.6259 - val_accuracy: 0.7466\n",
            "Epoch 2/5\n",
            "123/123 [==============================] - 150s 1s/step - loss: 0.0776 - accuracy: 0.9710 - val_loss: 1.0795 - val_accuracy: 0.7557\n",
            "Epoch 3/5\n",
            "123/123 [==============================] - 150s 1s/step - loss: 0.0808 - accuracy: 0.9751 - val_loss: 1.2346 - val_accuracy: 0.5385\n",
            "Epoch 4/5\n",
            "123/123 [==============================] - 149s 1s/step - loss: 0.1443 - accuracy: 0.9507 - val_loss: 1.4976 - val_accuracy: 0.7059\n",
            "Epoch 5/5\n",
            "123/123 [==============================] - 149s 1s/step - loss: 0.0764 - accuracy: 0.9756 - val_loss: 1.5359 - val_accuracy: 0.7059\n"
          ]
        }
      ]
    },
    {
      "cell_type": "code",
      "metadata": {
        "id": "04635d03"
      },
      "source": [
        "model.save('model2_cnn_dropouts.h5')"
      ],
      "execution_count": 47,
      "outputs": []
    },
    {
      "cell_type": "markdown",
      "metadata": {
        "id": "d4e3cbc8"
      },
      "source": [
        "## SVM Model"
      ]
    },
    {
      "cell_type": "code",
      "metadata": {
        "id": "c274f26f"
      },
      "source": [
        "model = Sequential([\n",
        "    # the imput shape must be defined\n",
        "   InputLayer(input_shape=[224,224, 3]),\n",
        "\n",
        "   Conv2D(filters=32, kernel_size=3, padding='same', activation='relu'),\n",
        "    \n",
        "    MaxPooling2D(),\n",
        "\n",
        "   Conv2D(32, 3, padding='same', activation='relu'),\n",
        " \n",
        "    MaxPooling2D(),\n",
        "\n",
        "    Conv2D(64, 3, padding='same', activation='relu'),\n",
        "   \n",
        "    MaxPooling2D(),\n",
        "    Conv2D(128, 3, padding='same', activation='relu'),\n",
        "  \n",
        "    MaxPooling2D(),\n",
        "\n",
        "    Flatten(),\n",
        "    \n",
        "    Dense(256, activation='relu'),\n",
        "     # this layer turn off random neurons each step\n",
        "    # it helps to improve the model and helps to prevent overfitting\n",
        "    \n",
        "    Dense(256, activation='relu'),\n",
        " \n",
        "    \n",
        "    Dense(3, activation='softmax',kernel_regularizer=regularizers.l2(0.01))\n",
        "])\n",
        "\n",
        "model.compile(\n",
        "    optimizer='adam',\n",
        "    loss='squared_hinge',\n",
        "    metrics=['accuracy']\n",
        ")"
      ],
      "execution_count": 48,
      "outputs": []
    },
    {
      "cell_type": "code",
      "metadata": {
        "id": "68f8c0fe",
        "colab": {
          "base_uri": "https://localhost:8080/"
        },
        "outputId": "806e9b66-d976-4d25-e29c-0418a8f0bdeb"
      },
      "source": [
        "model.fit(\n",
        "    train_generator,\n",
        "    validation_data = validation_generator,\n",
        "    epochs = 10,\n",
        ")"
      ],
      "execution_count": 50,
      "outputs": [
        {
          "output_type": "stream",
          "name": "stdout",
          "text": [
            "Epoch 1/10\n",
            "123/123 [==============================] - 153s 1s/step - loss: 1.2210 - accuracy: 0.6002 - val_loss: 1.2211 - val_accuracy: 0.5882\n",
            "Epoch 2/10\n",
            "123/123 [==============================] - 153s 1s/step - loss: 1.2019 - accuracy: 0.6002 - val_loss: 1.2163 - val_accuracy: 0.5882\n",
            "Epoch 3/10\n",
            "123/123 [==============================] - 153s 1s/step - loss: 1.2000 - accuracy: 0.6002 - val_loss: 1.2158 - val_accuracy: 0.5882\n",
            "Epoch 4/10\n",
            "123/123 [==============================] - 153s 1s/step - loss: 1.2098 - accuracy: 0.5931 - val_loss: 1.2164 - val_accuracy: 0.5882\n",
            "Epoch 5/10\n",
            "123/123 [==============================] - 151s 1s/step - loss: 1.2004 - accuracy: 0.6002 - val_loss: 1.2162 - val_accuracy: 0.5882\n",
            "Epoch 6/10\n",
            "123/123 [==============================] - 151s 1s/step - loss: 1.2002 - accuracy: 0.6002 - val_loss: 1.2161 - val_accuracy: 0.5882\n",
            "Epoch 7/10\n",
            "123/123 [==============================] - 152s 1s/step - loss: 1.2001 - accuracy: 0.6002 - val_loss: 1.2160 - val_accuracy: 0.5882\n",
            "Epoch 8/10\n",
            "123/123 [==============================] - 152s 1s/step - loss: 1.2000 - accuracy: 0.6002 - val_loss: 1.2160 - val_accuracy: 0.5882\n",
            "Epoch 9/10\n",
            "123/123 [==============================] - 154s 1s/step - loss: 1.2000 - accuracy: 0.6002 - val_loss: 1.2159 - val_accuracy: 0.5882\n",
            "Epoch 10/10\n",
            "123/123 [==============================] - 151s 1s/step - loss: 1.1999 - accuracy: 0.6002 - val_loss: 1.2159 - val_accuracy: 0.5882\n"
          ]
        },
        {
          "output_type": "execute_result",
          "data": {
            "text/plain": [
              "<keras.callbacks.History at 0x7f4665a57a90>"
            ]
          },
          "metadata": {},
          "execution_count": 50
        }
      ]
    },
    {
      "cell_type": "code",
      "metadata": {
        "id": "9a5187fd"
      },
      "source": [
        "model.save('model4_SVM.h5')"
      ],
      "execution_count": 51,
      "outputs": []
    },
    {
      "cell_type": "code",
      "metadata": {
        "id": "a38c50a3"
      },
      "source": [
        ""
      ],
      "execution_count": null,
      "outputs": []
    }
  ]
}