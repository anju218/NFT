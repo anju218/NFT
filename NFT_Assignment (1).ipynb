{
  "nbformat": 4,
  "nbformat_minor": 0,
  "metadata": {
    "colab": {
      "name": "NFT_Assignment.ipynb",
      "provenance": [],
      "collapsed_sections": []
    },
    "kernelspec": {
      "name": "python3",
      "display_name": "Python 3"
    },
    "language_info": {
      "name": "python"
    }
  },
  "cells": [
    {
      "cell_type": "code",
      "metadata": {
        "id": "-IkPyi0u0oab"
      },
      "source": [
        "import os\n",
        "import numpy as np\n",
        "import pandas as pd\n",
        "import cv2 as cv2\n",
        "import random as random\n",
        "import tensorflow as tf\n",
        "import matplotlib.pyplot as plt\n",
        "from sklearn.cluster import KMeans\n",
        "from sklearn.preprocessing import MinMaxScaler\n",
        "from tensorflow.keras import datasets, layers, models"
      ],
      "execution_count": null,
      "outputs": []
    },
    {
      "cell_type": "code",
      "metadata": {
        "colab": {
          "base_uri": "https://localhost:8080/"
        },
        "id": "-mO_KreU0x3v",
        "outputId": "9114e924-8ff3-451b-b7cd-93a83bcb95a8"
      },
      "source": [
        "from google.colab import drive\n",
        "drive.mount('/content/drive')"
      ],
      "execution_count": 92,
      "outputs": [
        {
          "output_type": "stream",
          "name": "stdout",
          "text": [
            "Drive already mounted at /content/drive; to attempt to forcibly remount, call drive.mount(\"/content/drive\", force_remount=True).\n"
          ]
        }
      ]
    },
    {
      "cell_type": "code",
      "metadata": {
        "id": "CuYEkAxM1Exx"
      },
      "source": [
        "os.chdir('/content/drive/MyDrive/Dataset')"
      ],
      "execution_count": null,
      "outputs": []
    },
    {
      "cell_type": "code",
      "metadata": {
        "id": "DqYlwoc92yrq",
        "colab": {
          "base_uri": "https://localhost:8080/",
          "height": 35
        },
        "outputId": "7a66da56-6df9-412e-9f9f-5011f3ebd0db"
      },
      "source": [
        "os.getcwd()"
      ],
      "execution_count": null,
      "outputs": [
        {
          "output_type": "execute_result",
          "data": {
            "application/vnd.google.colaboratory.intrinsic+json": {
              "type": "string"
            },
            "text/plain": [
              "'/content/drive/MyDrive/Dataset'"
            ]
          },
          "metadata": {},
          "execution_count": 6
        }
      ]
    },
    {
      "cell_type": "code",
      "metadata": {
        "colab": {
          "base_uri": "https://localhost:8080/"
        },
        "id": "zIBVPtrmaE4Y",
        "outputId": "137f8ba9-fbbe-4611-e356-a315e7bd0f53"
      },
      "source": [
        "!ls"
      ],
      "execution_count": null,
      "outputs": [
        {
          "output_type": "stream",
          "name": "stdout",
          "text": [
            "ftestf.csv   SoccerJuggling  Test_Data\t   Train_Data\n",
            "ftrainf.csv  SoccerPenalty   test_new.csv  train_new.csv\n",
            "modelCNN.h5  test.csv\t     train.csv\n"
          ]
        }
      ]
    },
    {
      "cell_type": "code",
      "metadata": {
        "id": "64ZemTB8aklp"
      },
      "source": [
        "os.chdir(\"/content/drive/MyDrive/Dataset/SoccerJuggling\")\n",
        "from os import listdir\n",
        "from os.path import isfile, join\n",
        "onlyfiles = [f for f in listdir() if isfile(join('', f))]\n",
        "Football_action =  onlyfiles[1:]"
      ],
      "execution_count": null,
      "outputs": []
    },
    {
      "cell_type": "code",
      "metadata": {
        "id": "8fLXgnF3bUWa"
      },
      "source": [
        "os.chdir('../SoccerPenalty/')\n",
        "from os import listdir\n",
        "from os.path import isfile, join\n",
        "onlyfiles = [f for f in listdir() if isfile(join('', f))]"
      ],
      "execution_count": null,
      "outputs": []
    },
    {
      "cell_type": "code",
      "metadata": {
        "id": "UKgI7C-dc1vE"
      },
      "source": [
        "for each in onlyfiles:\n",
        "  Football_action.append(each)\n",
        "Football_action"
      ],
      "execution_count": null,
      "outputs": []
    },
    {
      "cell_type": "code",
      "metadata": {
        "id": "L-i2JIKVGZoL"
      },
      "source": [
        "import random\n",
        "random.shuffle(Football_action)\n",
        "Football_action"
      ],
      "execution_count": null,
      "outputs": []
    },
    {
      "cell_type": "code",
      "metadata": {
        "id": "x-gbXKFEdRAr"
      },
      "source": [
        "FootballTrain = Football_action[:int(len(Football_action)*0.7)]"
      ],
      "execution_count": null,
      "outputs": []
    },
    {
      "cell_type": "code",
      "metadata": {
        "id": "65f3scTndmn7"
      },
      "source": [
        "trainNames = []\n",
        "for each in FootballTrain:\n",
        "    trainNames.append(each)\n",
        "trainNames"
      ],
      "execution_count": null,
      "outputs": []
    },
    {
      "cell_type": "code",
      "metadata": {
        "id": "qqFtO43KdyNr"
      },
      "source": [
        "testNames = []\n",
        "Football_Test = Football_action[int(len(Football_action)*0.7):]\n",
        "for each in Football_Test:\n",
        "    testNames.append(each)\n",
        "testNames"
      ],
      "execution_count": null,
      "outputs": []
    },
    {
      "cell_type": "code",
      "metadata": {
        "id": "uO5BLPNKeKQm"
      },
      "source": [
        "import pandas as pd\n",
        "train = pd.DataFrame()"
      ],
      "execution_count": null,
      "outputs": []
    },
    {
      "cell_type": "code",
      "metadata": {
        "colab": {
          "base_uri": "https://localhost:8080/",
          "height": 35
        },
        "id": "yyOgTjK-eTxw",
        "outputId": "6747c212-93fb-47e0-ef71-749018e9059d"
      },
      "source": [
        "train['video_Names']=trainNames\n",
        "train['video_Names'][1].split('_')[1]"
      ],
      "execution_count": null,
      "outputs": [
        {
          "output_type": "execute_result",
          "data": {
            "application/vnd.google.colaboratory.intrinsic+json": {
              "type": "string"
            },
            "text/plain": [
              "'SoccerPenalty'"
            ]
          },
          "metadata": {},
          "execution_count": 16
        }
      ]
    },
    {
      "cell_type": "code",
      "metadata": {
        "id": "6KUxRce3ei_r"
      },
      "source": [
        "test = pd.DataFrame()\n",
        "test['video_Names'] = testNames"
      ],
      "execution_count": null,
      "outputs": []
    },
    {
      "cell_type": "code",
      "metadata": {
        "id": "nO32KPEVeozc"
      },
      "source": [
        "train_video_tag = []\n",
        "for i in range(train.shape[0]):\n",
        "    train_video_tag.append(train['video_Names'][i].split('_')[1])"
      ],
      "execution_count": null,
      "outputs": []
    },
    {
      "cell_type": "code",
      "metadata": {
        "id": "fczTRaf7ew3Y"
      },
      "source": [
        "train['tag'] = train_video_tag\n",
        "test_video_tag = []\n",
        "for i in range(test.shape[0]):\n",
        "    test_video_tag.append(test['video_Names'][i].split('_')[1])\n",
        "test_video_tag"
      ],
      "execution_count": null,
      "outputs": []
    },
    {
      "cell_type": "code",
      "metadata": {
        "id": "NyzsllaLfaZT"
      },
      "source": [
        "test['tag'] = test_video_tag\n",
        "\n",
        "train"
      ],
      "execution_count": null,
      "outputs": []
    },
    {
      "cell_type": "code",
      "metadata": {
        "id": "r_tbUrd8fqmf"
      },
      "source": [
        "os.getcwd()\n",
        "os.chdir('../')"
      ],
      "execution_count": null,
      "outputs": []
    },
    {
      "cell_type": "code",
      "metadata": {
        "colab": {
          "base_uri": "https://localhost:8080/"
        },
        "id": "Bnf4vKDKgA0u",
        "outputId": "cf21f1f7-bdae-4738-e1c1-1a166857d442"
      },
      "source": [
        "!ls"
      ],
      "execution_count": null,
      "outputs": [
        {
          "output_type": "stream",
          "name": "stdout",
          "text": [
            "ftestf.csv   SoccerJuggling  Test_Data\t   Train_Data\n",
            "ftrainf.csv  SoccerPenalty   test_new.csv  train_new.csv\n",
            "modelCNN.h5  test.csv\t     train.csv\n"
          ]
        }
      ]
    },
    {
      "cell_type": "code",
      "metadata": {
        "id": "YljYlaWrgEtw"
      },
      "source": [
        "import math"
      ],
      "execution_count": null,
      "outputs": []
    },
    {
      "cell_type": "code",
      "metadata": {
        "id": "M6X1Pvxsg1SJ"
      },
      "source": [
        "# !python -m pip install --upgrade pip"
      ],
      "execution_count": null,
      "outputs": []
    },
    {
      "cell_type": "code",
      "metadata": {
        "id": "9rtv-7PniBSP"
      },
      "source": [
        "from tqdm import tqdm"
      ],
      "execution_count": null,
      "outputs": []
    },
    {
      "cell_type": "code",
      "metadata": {
        "colab": {
          "base_uri": "https://localhost:8080/"
        },
        "id": "QV15FRfdIMeH",
        "outputId": "94aa45d2-54b3-4467-c477-9c2fecf29144"
      },
      "source": [
        "!ls"
      ],
      "execution_count": null,
      "outputs": [
        {
          "output_type": "stream",
          "name": "stdout",
          "text": [
            "ftestf.csv   SoccerJuggling  Test_Data\t   Train_Data\n",
            "ftrainf.csv  SoccerPenalty   test_new.csv  train_new.csv\n",
            "modelCNN.h5  test.csv\t     train.csv\n"
          ]
        }
      ]
    },
    {
      "cell_type": "code",
      "metadata": {
        "id": "uoF7fVJWP2rh"
      },
      "source": [
        "os.chdir('../../')"
      ],
      "execution_count": null,
      "outputs": []
    },
    {
      "cell_type": "code",
      "metadata": {
        "id": "eWdW4uHsgNaf",
        "colab": {
          "base_uri": "https://localhost:8080/"
        },
        "outputId": "2d4c9fa8-c1e6-4e0b-8ee8-34bac53bec77"
      },
      "source": [
        "count=0\n",
        "for i in tqdm(range(train.shape[0])):\n",
        "\n",
        "    videoFile = train['video_Names'][i].split(\" \")[0].split(\"_\")[1]+\"/\"+train['video_Names'][i]\n",
        "    cap = cv2.VideoCapture('/content/drive/My Drive/Dataset/'+videoFile)\n",
        "    frameRate = cap.get(5)\n",
        "    while(cap.isOpened()):\n",
        "        frameId = cap.get(1) #current frame number\n",
        "        ret, frame = cap.read()\n",
        "        if (ret != True):\n",
        "            break\n",
        "        if (frameId % math.floor(frameRate) == 0):\n",
        "        \n",
        "            # storing the frames in a new folder named train_1\n",
        "        \n",
        "            filename ='train_1/' + train[\"video_Names\"][i].split(\"_\")[1]+\"_\"+train[\"video_Names\"][i].split(\"_\")[2]+ train[\"video_Names\"][i].split(\"_\")[3].split(\".\")[0] +\"_frame%d.jpg\" %count\n",
        "            count = count+1\n",
        "            cv2.imwrite(filename, frame)\n",
        "\n",
        "    cap.release()"
      ],
      "execution_count": null,
      "outputs": [
        {
          "output_type": "stream",
          "name": "stderr",
          "text": [
            "100%|██████████| 198/198 [01:08<00:00,  2.87it/s]\n"
          ]
        }
      ]
    },
    {
      "cell_type": "code",
      "metadata": {
        "colab": {
          "base_uri": "https://localhost:8080/",
          "height": 35
        },
        "id": "iDGNTsnwiLFJ",
        "outputId": "c23f841a-cad9-42a3-dcde-db0cd757a8e6"
      },
      "source": [
        "os.getcwd()"
      ],
      "execution_count": null,
      "outputs": [
        {
          "output_type": "execute_result",
          "data": {
            "application/vnd.google.colaboratory.intrinsic+json": {
              "type": "string"
            },
            "text/plain": [
              "'/content/drive/My Drive/Dataset'"
            ]
          },
          "metadata": {},
          "execution_count": 49
        }
      ]
    },
    {
      "cell_type": "code",
      "metadata": {
        "colab": {
          "base_uri": "https://localhost:8080/"
        },
        "id": "huhiGLKZiRy7",
        "outputId": "424aaa6a-e657-4018-b626-e2ad32252635"
      },
      "source": [
        "count=0\n",
        "for i in tqdm(range(test.shape[0])):\n",
        "\n",
        "    videoFile = test['video_Names'][i].split(\" \")[0].split(\"_\")[1]+\"/\"+test['video_Names'][i]\n",
        "    cap = cv2.VideoCapture('/content/drive/My Drive/Dataset/'+videoFile)\n",
        "    frameRate = cap.get(5)\n",
        "    while(cap.isOpened()):\n",
        "        frameId = cap.get(1) #current frame number\n",
        "        ret, frame = cap.read()\n",
        "        if (ret != True):\n",
        "            break\n",
        "        if (frameId % math.floor(frameRate) == 0):\n",
        "        \n",
        "            # storing the frames in a new folder named train_1\n",
        "        \n",
        "            filename ='test_1/' + test[\"video_Names\"][i].split(\"_\")[1]+\"_\"+test[\"video_Names\"][i].split(\"_\")[2]+ test[\"video_Names\"][i].split(\"_\")[3].split(\".\")[0] +\"_frame%d.jpg\" %count\n",
        "            count = count+1\n",
        "            cv2.imwrite(filename, frame)\n",
        "    \n",
        "    cap.release()"
      ],
      "execution_count": null,
      "outputs": [
        {
          "output_type": "stream",
          "name": "stderr",
          "text": [
            "100%|██████████| 85/85 [00:35<00:00,  2.38it/s]\n"
          ]
        }
      ]
    },
    {
      "cell_type": "code",
      "metadata": {
        "id": "Ez7cCcUhgznT"
      },
      "source": [
        "from glob import glob"
      ],
      "execution_count": null,
      "outputs": []
    },
    {
      "cell_type": "code",
      "metadata": {
        "colab": {
          "base_uri": "https://localhost:8080/"
        },
        "id": "I43_9hY6JbYZ",
        "outputId": "68dab4ea-775a-45fa-9114-60151e5d14d2"
      },
      "source": [
        "!ls\n",
        "os.chdir('/content/drive/My Drive/Dataset/Train_Data')"
      ],
      "execution_count": null,
      "outputs": [
        {
          "output_type": "stream",
          "name": "stdout",
          "text": [
            "ftestf.csv   SoccerJuggling  Test_Data\t   Train_Data\n",
            "ftrainf.csv  SoccerPenalty   test_new.csv  train_new.csv\n",
            "modelCNN.h5  test.csv\t     train.csv\n"
          ]
        }
      ]
    },
    {
      "cell_type": "code",
      "metadata": {
        "id": "z9ZI9TBiim1L"
      },
      "source": [
        "images = glob('train_1/*.jpg')\n",
        "images"
      ],
      "execution_count": null,
      "outputs": []
    },
    {
      "cell_type": "code",
      "metadata": {
        "id": "HyspzfsgisdM"
      },
      "source": [
        "train_image = []\n",
        "train_class = []\n",
        "for i in tqdm(range(len(images))):\n",
        "    # creating the image name\n",
        "    train_image.append(images[i].split('/')[1])\n",
        "    # creating the class of image\n",
        "    train_class.append(images[i].split('/')[1].split(\"_\")[0]) \n",
        "train_class    "
      ],
      "execution_count": null,
      "outputs": []
    },
    {
      "cell_type": "code",
      "metadata": {
        "id": "J5YsetLHiwqG"
      },
      "source": [
        "os.chdir('/content/drive/My Drive/Dataset/Test_Data')\n",
        "images = glob('test_1/*.jpg')\n",
        "images"
      ],
      "execution_count": null,
      "outputs": []
    },
    {
      "cell_type": "code",
      "metadata": {
        "colab": {
          "base_uri": "https://localhost:8080/"
        },
        "id": "KwQKDEwli0IH",
        "outputId": "5ea4e8b1-a584-4ae1-c334-2b429704d7a4"
      },
      "source": [
        "test_image = []\n",
        "test_class = []\n",
        "for i in tqdm(range(len(images))):\n",
        "    # creating the image name\n",
        "    test_image.append(images[i].split('/')[1])\n",
        "    # creating the class of image\n",
        "    test_class.append(images[i].split('/')[1].split(\"_\")[0])"
      ],
      "execution_count": null,
      "outputs": [
        {
          "output_type": "stream",
          "name": "stderr",
          "text": [
            "100%|██████████| 779/779 [00:00<00:00, 303827.67it/s]\n"
          ]
        }
      ]
    },
    {
      "cell_type": "code",
      "metadata": {
        "id": "K92WxY2VmgNP"
      },
      "source": [
        "test_class"
      ],
      "execution_count": null,
      "outputs": []
    },
    {
      "cell_type": "code",
      "metadata": {
        "id": "tOaGLS1_jBgu"
      },
      "source": [
        "# os.chdir('/content/drive/MyDrive/Dataset/')\n",
        "# os.makedirs(\"test_1\")\n"
      ],
      "execution_count": null,
      "outputs": []
    },
    {
      "cell_type": "code",
      "metadata": {
        "id": "1MJ1v_ComMZ_"
      },
      "source": [
        "!ls"
      ],
      "execution_count": null,
      "outputs": []
    },
    {
      "cell_type": "code",
      "metadata": {
        "id": "3pPdtLAamYBA"
      },
      "source": [
        "images = glob(\"test_1/*.jpg\")\n",
        "images"
      ],
      "execution_count": null,
      "outputs": []
    },
    {
      "cell_type": "code",
      "metadata": {
        "id": "X0NWeOn7i4A6"
      },
      "source": [
        "# train_data = pd.DataFrame()\n",
        "# train_data['image'] = train_image\n",
        "# train_data['class'] = train_class\n",
        "\n",
        "# # converting the dataframe into csv file \n",
        "# train_data.to_csv('/content/drive/MyDrive/Dataset/train_new.csv',header=True, index=False)"
      ],
      "execution_count": null,
      "outputs": []
    },
    {
      "cell_type": "code",
      "metadata": {
        "id": "9j5-GxsDjPB-"
      },
      "source": [
        "# test_data = pd.DataFrame()\n",
        "# test_data['image'] = test_image\n",
        "# test_data['class'] = test_class\n",
        "\n",
        "# # converting the dataframe into csv file \n",
        "# test_data.to_csv('/content/drive/MyDrive/Dataset/test_new.csv',header=True, index=False)"
      ],
      "execution_count": null,
      "outputs": []
    },
    {
      "cell_type": "code",
      "metadata": {
        "id": "ZALotNWAoYCb"
      },
      "source": [
        "train_data"
      ],
      "execution_count": null,
      "outputs": []
    },
    {
      "cell_type": "code",
      "metadata": {
        "id": "kP7cg_54ZZnn"
      },
      "source": [
        "os.getcwd()\n",
        "os.chdir('../')"
      ],
      "execution_count": null,
      "outputs": []
    },
    {
      "cell_type": "code",
      "metadata": {
        "id": "eWJ8AgvmO7-w"
      },
      "source": [
        "# image_generator=tf.keras.preprocessing.image.ImageDataGenerator(rescale=1./255)"
      ],
      "execution_count": null,
      "outputs": []
    },
    {
      "cell_type": "code",
      "metadata": {
        "id": "yZStmaDZRXz9"
      },
      "source": [
        "CLASS_NAMES=['SoccerJuggling','SoccerPenalty']"
      ],
      "execution_count": null,
      "outputs": []
    },
    {
      "cell_type": "code",
      "metadata": {
        "id": "X09R3B54WUGV"
      },
      "source": [
        "os.chdir('/content/drive/MyDrive/Dataset')"
      ],
      "execution_count": null,
      "outputs": []
    },
    {
      "cell_type": "code",
      "metadata": {
        "id": "nAWr98L4WkZO"
      },
      "source": [
        "os.getcwd()"
      ],
      "execution_count": null,
      "outputs": []
    },
    {
      "cell_type": "code",
      "metadata": {
        "id": "bKVtldptDezx"
      },
      "source": [
        "!ls"
      ],
      "execution_count": null,
      "outputs": []
    },
    {
      "cell_type": "code",
      "metadata": {
        "colab": {
          "base_uri": "https://localhost:8080/"
        },
        "id": "g8DtdJ64Zuhi",
        "outputId": "04336eb7-c5c3-462d-bca9-ffa6519c9339"
      },
      "source": [
        "train_datagen = tf.keras.preprocessing.image.ImageDataGenerator(\n",
        "  rescale = 1./255,\n",
        "  validation_split=0.2,\n",
        "  shear_range = 0.2, # random application of shearing\n",
        "  zoom_range = 0.2,\n",
        "  horizontal_flip = True) # randomly flipping half of the images horizontally\n",
        "train_datagen\n",
        "train_generator = train_datagen.flow_from_directory(\n",
        "  'Train_Data/',\n",
        "  target_size = (256, 256),\n",
        "  shuffle = True,\n",
        "  color_mode = 'rgb')\n",
        "  \n",
        "test_datagen = tf.keras.preprocessing.image.ImageDataGenerator(rescale = 1./255)\n",
        "validation_generator = test_datagen.flow_from_directory(\n",
        "  'Test_Data/',\n",
        "  target_size = (256, 256),\n",
        "  batch_size = 15,\n",
        "  shuffle=True,\n",
        "  color_mode = 'rgb')"
      ],
      "execution_count": null,
      "outputs": [
        {
          "output_type": "stream",
          "name": "stdout",
          "text": [
            "Found 1950 images belonging to 1 classes.\n",
            "Found 779 images belonging to 1 classes.\n"
          ]
        }
      ]
    },
    {
      "cell_type": "code",
      "metadata": {
        "id": "r3APqzvDbi0V"
      },
      "source": [
        "model1 = models.Sequential()\n",
        "model1.add(layers.Conv2D(32, (3,3), input_shape = (256, 256, 3), activation = 'relu'))\n",
        "model1.add(layers.MaxPooling2D(pool_size = (2,2)))\n",
        "model1.add(layers.Dropout(0.05))\n",
        "model1.add(layers.Conv2D(64, (3,3), activation = 'relu'))\n",
        "model1.add(layers.MaxPooling2D(pool_size = (2,2)))\n",
        "model1.add(layers.Dropout(0.35))\n",
        "model1.add(layers.Flatten())\n",
        "model1.add(layers.Dense(200,activation = 'relu'))\n",
        "model1.add(layers.Dense(2, activation = 'softmax'))\n",
        "model1.compile(loss = tf.keras.losses.CategoricalCrossentropy(),optimizer= 'adam',\n",
        "              metrics = ['accuracy'])"
      ],
      "execution_count": null,
      "outputs": []
    },
    {
      "cell_type": "code",
      "metadata": {
        "colab": {
          "base_uri": "https://localhost:8080/"
        },
        "id": "s6RSKPipD9op",
        "outputId": "62f8e16c-23d3-4376-e015-eabd37d80d7e"
      },
      "source": [
        "model1.fit(train_generator,validation_data=validation_generator,epochs = 5,batch_size = 32)\n",
        "# model1.save_weights(\"modelCNN.h5\")"
      ],
      "execution_count": null,
      "outputs": [
        {
          "output_type": "stream",
          "name": "stdout",
          "text": [
            "Epoch 1/5\n",
            "61/61 [==============================] - 541s 9s/step - loss: 1718.1558 - accuracy: 0.4769 - val_loss: 10921.4854 - val_accuracy: 1.0000\n",
            "Epoch 2/5\n",
            "61/61 [==============================] - 212s 3s/step - loss: 26866.2637 - accuracy: 0.5323 - val_loss: 35148.9688 - val_accuracy: 1.0000\n",
            "Epoch 3/5\n",
            "61/61 [==============================] - 211s 3s/step - loss: 217614.2188 - accuracy: 0.5067 - val_loss: 709936.0000 - val_accuracy: 1.0000\n",
            "Epoch 4/5\n",
            "61/61 [==============================] - 210s 3s/step - loss: 1338731.1250 - accuracy: 0.5287 - val_loss: 2336559.7500 - val_accuracy: 0.0000e+00\n",
            "Epoch 5/5\n",
            "61/61 [==============================] - 214s 4s/step - loss: 4429410.5000 - accuracy: 0.4928 - val_loss: 1777033.0000 - val_accuracy: 1.0000\n"
          ]
        },
        {
          "output_type": "execute_result",
          "data": {
            "text/plain": [
              "<keras.callbacks.History at 0x7f010aa21c90>"
            ]
          },
          "metadata": {},
          "execution_count": 70
        }
      ]
    },
    {
      "cell_type": "code",
      "metadata": {
        "id": "PKTllhEmbxJn",
        "colab": {
          "base_uri": "https://localhost:8080/"
        },
        "outputId": "99ed1309-034c-435f-8f51-de7d018b4a3a"
      },
      "source": [
        "model1.summary()"
      ],
      "execution_count": 74,
      "outputs": [
        {
          "output_type": "stream",
          "name": "stdout",
          "text": [
            "Model: \"sequential\"\n",
            "_________________________________________________________________\n",
            "Layer (type)                 Output Shape              Param #   \n",
            "=================================================================\n",
            "conv2d (Conv2D)              (None, 254, 254, 32)      896       \n",
            "_________________________________________________________________\n",
            "max_pooling2d (MaxPooling2D) (None, 127, 127, 32)      0         \n",
            "_________________________________________________________________\n",
            "dropout (Dropout)            (None, 127, 127, 32)      0         \n",
            "_________________________________________________________________\n",
            "conv2d_1 (Conv2D)            (None, 125, 125, 64)      18496     \n",
            "_________________________________________________________________\n",
            "max_pooling2d_1 (MaxPooling2 (None, 62, 62, 64)        0         \n",
            "_________________________________________________________________\n",
            "dropout_1 (Dropout)          (None, 62, 62, 64)        0         \n",
            "_________________________________________________________________\n",
            "flatten (Flatten)            (None, 246016)            0         \n",
            "_________________________________________________________________\n",
            "dense (Dense)                (None, 200)               49203400  \n",
            "_________________________________________________________________\n",
            "dense_1 (Dense)              (None, 2)                 402       \n",
            "=================================================================\n",
            "Total params: 49,223,194\n",
            "Trainable params: 49,223,194\n",
            "Non-trainable params: 0\n",
            "_________________________________________________________________\n"
          ]
        }
      ]
    },
    {
      "cell_type": "code",
      "metadata": {
        "id": "Oi8PjhBVTDUb"
      },
      "source": [
        "modelfeatured=models.Model(\n",
        "    inputs=model1.input,\n",
        "    outputs=model1.get_layer('flatten').output\n",
        ")"
      ],
      "execution_count": 76,
      "outputs": []
    },
    {
      "cell_type": "code",
      "metadata": {
        "id": "swBJ7cbMBV3w"
      },
      "source": [
        "modelfeatured1 = models.Model(\n",
        "    inputs=model1.input,\n",
        "    outputs=model1.get_layer('dense').output\n",
        ")"
      ],
      "execution_count": 78,
      "outputs": []
    },
    {
      "cell_type": "code",
      "metadata": {
        "id": "U7tpGvOtBwUm"
      },
      "source": [
        "base_model = tf.keras.applications.inception_v3.InceptionV3(\n",
        "    weights='imagenet',\n",
        "    include_top=True\n",
        ")\n",
        "# We'll extract features at the final pool layer.\n",
        "modelfeatured3 = models.Model(\n",
        "    inputs=base_model.input,\n",
        "    outputs=base_model.get_layer('avg_pool').output\n",
        ")"
      ],
      "execution_count": 79,
      "outputs": []
    },
    {
      "cell_type": "code",
      "metadata": {
        "colab": {
          "base_uri": "https://localhost:8080/"
        },
        "id": "BzVMpOJxCdEu",
        "outputId": "2727b381-f5b1-404b-c0e1-e45afbd1cc1d"
      },
      "source": [
        "train_datagen = tf.keras.preprocessing.image.ImageDataGenerator(\n",
        "  rescale = 1./255,\n",
        "  validation_split=0.2,\n",
        "  shear_range = 0.2, # random application of shearing\n",
        "  zoom_range = 0.2,\n",
        "  horizontal_flip = True) # randomly flipping half of the images horizontally\n",
        "train_datagen\n",
        "train_generator = train_datagen.flow_from_directory(\n",
        "  'Train_Data/',\n",
        "  target_size = (256, 256),\n",
        "  shuffle = True,\n",
        "  color_mode = 'rgb')\n",
        "  \n",
        "test_datagen = tf.keras.preprocessing.image.ImageDataGenerator(rescale = 1./255)\n",
        "validation_generator = test_datagen.flow_from_directory(\n",
        "  'Test_Data/',\n",
        "  target_size = (256, 256),\n",
        "  batch_size = 15,\n",
        "  shuffle=True,\n",
        "  color_mode = 'rgb')"
      ],
      "execution_count": 98,
      "outputs": [
        {
          "output_type": "stream",
          "name": "stdout",
          "text": [
            "Found 1950 images belonging to 1 classes.\n",
            "Found 779 images belonging to 1 classes.\n"
          ]
        }
      ]
    },
    {
      "cell_type": "code",
      "metadata": {
        "id": "bl3vKQ8ACdOm"
      },
      "source": [
        "modelfeatured = modelfeatured1\n",
        "#modelfeatured = modelfeatured2\n",
        "#modelfeatured = modelfeatured3\n",
        "\n",
        "train_featured = modelfeatured.predict(train_generator)\n",
        "test_featured = modelfeatured.predict(validation_generator)"
      ],
      "execution_count": 99,
      "outputs": []
    },
    {
      "cell_type": "code",
      "metadata": {
        "id": "nN9SLX-TDJJg"
      },
      "source": [
        "os.getcwd()"
      ],
      "execution_count": null,
      "outputs": []
    },
    {
      "cell_type": "code",
      "metadata": {
        "id": "Sf84LMY7CyAU"
      },
      "source": [
        "np.savetxt('/content/drive/MyDrive/Dataset/ftrainf.csv',train_featured, delimiter=',')\n",
        "np.savetxt('/content/drive/MyDrive/Dataset/ftestf.csv',test_featured, delimiter=',')"
      ],
      "execution_count": 100,
      "outputs": []
    },
    {
      "cell_type": "code",
      "metadata": {
        "id": "K5OSITEIPWBZ"
      },
      "source": [
        "os.getcwd()"
      ],
      "execution_count": null,
      "outputs": []
    },
    {
      "cell_type": "code",
      "metadata": {
        "id": "bU44OaZDM-RI",
        "colab": {
          "base_uri": "https://localhost:8080/"
        },
        "outputId": "e37b6536-479e-41e2-eb44-dedc431465e5"
      },
      "source": [
        "train_datagen = tf.keras.preprocessing.image.ImageDataGenerator(\n",
        "      rescale = 1./255,\n",
        "      shear_range = 0.2, # random application of shearing\n",
        "      zoom_range = 0.2,\n",
        "      validation_split=0.2,\n",
        "      horizontal_flip = True) # randomly flipping half of the images horizontally\n",
        "\n",
        "train_generator = train_datagen.flow_from_directory(\n",
        "      'Train_Data/',\n",
        "      target_size = (256, 256),\n",
        "      shuffle = True,\n",
        "      color_mode = \"rgb\")"
      ],
      "execution_count": 101,
      "outputs": [
        {
          "output_type": "stream",
          "name": "stdout",
          "text": [
            "Found 1950 images belonging to 1 classes.\n"
          ]
        }
      ]
    },
    {
      "cell_type": "code",
      "metadata": {
        "id": "PgMIbHDFQDZ2"
      },
      "source": [
        "model = models.Sequential()\n",
        "model.add(layers.Conv2D(256, kernel_size=(1, 1),input_shape=(256,256, 3)))\n",
        "model.add(tf.keras.layers.BatchNormalization())\n",
        "model.add(tf.keras.layers.Activation('relu'))\n",
        "model.add(layers.MaxPooling2D((3, 3)))\n",
        "\n",
        "model.add(layers.Conv2D(128, (3, 3)))\n",
        "model.add(tf.keras.layers.BatchNormalization())\n",
        "model.add(tf.keras.layers.Activation('relu'))\n",
        "model.add(layers.MaxPooling2D(pool_size=(3, 3)))\n",
        "\n",
        "model.add(layers.Conv2D(64, (3, 3)))\n",
        "model.add(tf.keras.layers.BatchNormalization())\n",
        "model.add(tf.keras.layers.Activation('relu'))\n",
        "model.add(layers.MaxPooling2D(pool_size=(2, 2)))\n",
        "\n",
        "model.add(layers.Conv2D(64, (1, 1)))\n",
        "model.add(tf.keras.layers.BatchNormalization())\n",
        "model.add(tf.keras.layers.Activation('relu'))\n",
        "model.add(layers.MaxPooling2D(pool_size=(2, 2)))\n",
        "\n",
        "model.add(layers.Flatten())\n",
        "\n",
        "model.add(layers.Dense(64, activation='relu'))\n",
        "model.add(layers.Dropout(0.3))\n",
        "\n",
        "model.add(layers.Dense(64, activation='relu'))\n",
        "model.add(layers.Dropout(0.3))       \n",
        "model.add(layers.Dense(4, activation='softmax'))"
      ],
      "execution_count": 102,
      "outputs": []
    },
    {
      "cell_type": "code",
      "metadata": {
        "id": "Fwv4Oy1jQJRC",
        "colab": {
          "base_uri": "https://localhost:8080/"
        },
        "outputId": "e23f110f-20df-4d12-ffc8-9845e1eb13e3"
      },
      "source": [
        "model.compile(optimizer=\"adam\",loss=tf.keras.losses.CategoricalCrossentropy(),metrics=['accuracy'])\n",
        "#model.load_weights('modelCNN.h5')\n",
        "callback = tf.keras.callbacks.EarlyStopping(patience=3)\n",
        "model.fit(train_generator,epochs=9,batch_size=6)\n",
        "model.save_weights(\"modelFF.h5\")"
      ],
      "execution_count": 202,
      "outputs": [
        {
          "output_type": "stream",
          "name": "stdout",
          "text": [
            "Epoch 1/9\n",
            "61/61 [==============================] - 1078s 18s/step - loss: 593.2692 - accuracy: 0.2215\n",
            "Epoch 2/9\n",
            "61/61 [==============================] - 1068s 18s/step - loss: 5929.7578 - accuracy: 0.3513\n",
            "Epoch 3/9\n",
            "61/61 [==============================] - 1084s 18s/step - loss: 25244.8672 - accuracy: 0.2979\n",
            "Epoch 4/9\n",
            "61/61 [==============================] - 1071s 18s/step - loss: 71535.7812 - accuracy: 0.2503\n",
            "Epoch 5/9\n",
            "61/61 [==============================] - 1059s 17s/step - loss: 156494.1094 - accuracy: 0.2287\n",
            "Epoch 6/9\n",
            "61/61 [==============================] - 1054s 17s/step - loss: 291318.8125 - accuracy: 0.2236\n",
            "Epoch 7/9\n",
            "61/61 [==============================] - 1055s 17s/step - loss: 496553.2188 - accuracy: 0.2256\n",
            "Epoch 8/9\n",
            "61/61 [==============================] - 1054s 17s/step - loss: 766685.9375 - accuracy: 0.2226\n",
            "Epoch 9/9\n",
            "61/61 [==============================] - 1050s 17s/step - loss: 1106737.0000 - accuracy: 0.2210\n"
          ]
        }
      ]
    },
    {
      "cell_type": "code",
      "metadata": {
        "colab": {
          "base_uri": "https://localhost:8080/"
        },
        "id": "YqtNuONUyM7n",
        "outputId": "5cd3cfbe-e3eb-497f-ff25-853782787bf5"
      },
      "source": [
        "os.chdir('/content/drive/My Drive/Dataset/')\n",
        "!ls"
      ],
      "execution_count": 105,
      "outputs": [
        {
          "output_type": "stream",
          "name": "stdout",
          "text": [
            "ftestf.csv   SoccerJuggling  Test_Data\t   Train_Data\n",
            "ftrainf.csv  SoccerPenalty   test_new.csv  train_new.csv\n",
            "modelCNN.h5  test.csv\t     train.csv\n"
          ]
        }
      ]
    },
    {
      "cell_type": "code",
      "metadata": {
        "id": "TY0vlpzuRah0"
      },
      "source": [
        "df = np.genfromtxt('ftrainf.csv', delimiter=',')\n",
        "scaler=MinMaxScaler()\n",
        "\n",
        "scaled=scaler.fit_transform(df)\n",
        "df=pd.DataFrame(scaled)\n",
        "\n",
        "kmean4=KMeans(n_clusters=4)\n",
        "kmean4.fit(df)\n",
        "y_hat = kmean4.predict(df)\n",
        "feature_train_2 = y_hat.reshape(y_hat.shape[0],1)"
      ],
      "execution_count": 107,
      "outputs": []
    },
    {
      "cell_type": "code",
      "metadata": {
        "id": "K8oOcTNhRiJF"
      },
      "source": [
        "df = np.genfromtxt('ftestf.csv', delimiter=',')\n",
        "scaler=MinMaxScaler()\n",
        "\n",
        "scaled=scaler.fit_transform(df)\n",
        "df=pd.DataFrame(scaled)\n",
        "\n",
        "kmean4=KMeans(n_clusters=4)\n",
        "kmean4.fit(df)\n",
        "y_hat = kmean4.predict(df)\n",
        "feature_test_2 = y_hat.reshape(y_hat.shape[0],1)"
      ],
      "execution_count": 108,
      "outputs": []
    },
    {
      "cell_type": "code",
      "metadata": {
        "id": "q1dRaT_mRxMJ"
      },
      "source": [
        "train_featured = np.genfromtxt('ftrainf.csv', delimiter=',')\n",
        "test_featured = np.genfromtxt('ftestf.csv', delimiter=',')\n",
        "n_steps = 30  ##We set frame rate as 30\n",
        "n_features = test_featured.shape[1]"
      ],
      "execution_count": 194,
      "outputs": []
    },
    {
      "cell_type": "code",
      "metadata": {
        "id": "G7jgbZVsVSO1",
        "colab": {
          "base_uri": "https://localhost:8080/"
        },
        "outputId": "1d81ca0b-ab79-44ac-fabc-2fcfbd6c3ae7"
      },
      "source": [
        "train_featured.shape"
      ],
      "execution_count": 195,
      "outputs": [
        {
          "output_type": "execute_result",
          "data": {
            "text/plain": [
              "(1950, 200)"
            ]
          },
          "metadata": {},
          "execution_count": 195
        }
      ]
    },
    {
      "cell_type": "code",
      "metadata": {
        "id": "h5Sx9AoaUWvI",
        "colab": {
          "base_uri": "https://localhost:8080/"
        },
        "outputId": "d1397bb2-6b70-4e12-b49c-68eaa11462fa"
      },
      "source": [
        "test_featured.shape"
      ],
      "execution_count": 196,
      "outputs": [
        {
          "output_type": "execute_result",
          "data": {
            "text/plain": [
              "(779, 200)"
            ]
          },
          "metadata": {},
          "execution_count": 196
        }
      ]
    },
    {
      "cell_type": "code",
      "metadata": {
        "id": "YdsLZ7fvR9wC",
        "colab": {
          "base_uri": "https://localhost:8080/"
        },
        "outputId": "4d38b262-0677-41bc-f379-862b4b7a39d8"
      },
      "source": [
        "temp = train_featured[:n_steps]\n",
        "temp = temp.reshape(1,n_steps,temp.shape[1])\n",
        "for i in range(n_steps,train_featured.shape[0],n_steps):\n",
        "  temp = np.append(temp,train_featured[i:i+n_steps].reshape(1,n_steps,train_featured.shape[1]),axis = 0)\n",
        "trainX = temp\n",
        "trainX.shape"
      ],
      "execution_count": 197,
      "outputs": [
        {
          "output_type": "execute_result",
          "data": {
            "text/plain": [
              "(65, 30, 200)"
            ]
          },
          "metadata": {},
          "execution_count": 197
        }
      ]
    },
    {
      "cell_type": "code",
      "metadata": {
        "id": "LibeIsg3a74C",
        "colab": {
          "base_uri": "https://localhost:8080/"
        },
        "outputId": "69b66fcc-c60a-4331-9a9f-c54db05e2522"
      },
      "source": [
        "temp = test_featured[:n_steps]\n",
        "temp = temp.reshape(1,temp.shape[0],temp.shape[1])\n",
        "for i in range(n_steps,test_featured.shape[0],n_steps):\n",
        "  if(len(temp)<6000):\n",
        "    continue\n",
        "  temp = np.append(temp,test_featured[i:i+n_steps].reshape(n_steps,test_featured.shape[1]),axis = 0)\n",
        "testX = temp\n",
        "testX.shape "
      ],
      "execution_count": 199,
      "outputs": [
        {
          "output_type": "execute_result",
          "data": {
            "text/plain": [
              "(1, 30, 200)"
            ]
          },
          "metadata": {},
          "execution_count": 199
        }
      ]
    },
    {
      "cell_type": "code",
      "metadata": {
        "id": "mIgaSgA2cpl9"
      },
      "source": [
        "os.getcwd()"
      ],
      "execution_count": null,
      "outputs": []
    },
    {
      "cell_type": "code",
      "metadata": {
        "id": "r4FuTOjiZES-",
        "colab": {
          "base_uri": "https://localhost:8080/"
        },
        "outputId": "4dcf36bc-8a55-49c3-f239-e04bb2abe8a3"
      },
      "source": [
        "train_datagen = tf.keras.preprocessing.image.ImageDataGenerator(\n",
        "  rescale = 1./255,\n",
        "  validation_split=0.2,\n",
        "  shear_range = 0.2, # random application of shearing\n",
        "  zoom_range = 0.2,\n",
        "  horizontal_flip = True) # randomly flipping half of the images horizontally\n",
        "train_datagen\n",
        "train_generator = train_datagen.flow_from_directory(\n",
        "  'Train_Data/',\n",
        "  target_size = (256, 256),\n",
        "  shuffle = True,\n",
        "  color_mode = 'rgb')\n",
        "  \n",
        "test_datagen = tf.keras.preprocessing.image.ImageDataGenerator(rescale = 1./255)\n",
        "validation_generator = test_datagen.flow_from_directory(\n",
        "  'Test_Data/',\n",
        "  target_size = (256, 256),\n",
        "  batch_size = 15,\n",
        "  shuffle=True,\n",
        "  color_mode = 'rgb')"
      ],
      "execution_count": 120,
      "outputs": [
        {
          "output_type": "stream",
          "name": "stdout",
          "text": [
            "Found 1950 images belonging to 1 classes.\n",
            "Found 779 images belonging to 1 classes.\n"
          ]
        }
      ]
    },
    {
      "cell_type": "code",
      "metadata": {
        "id": "eHPWykDVhUzJ"
      },
      "source": [
        "train_generator.filenames"
      ],
      "execution_count": null,
      "outputs": []
    },
    {
      "cell_type": "code",
      "metadata": {
        "id": "9ZHNKoaFdUeL"
      },
      "source": [
        "y_train = []\n",
        "for i in train_generator.filenames:\n",
        "  if(i.split('/')[1].split(\"_\")[0]=='SoccerJuggling'):\n",
        "    y_train.append(-100) \n",
        "  elif(i.split('/')[1].split(\"_\")[0]=='SoccerPenalty'):\n",
        "    y_train.append(0)\n",
        "y_train\n",
        "y_test = []\n",
        "for i in validation_generator.filenames:\n",
        "  if(i.split('/')[1].split(\"_\")[0]=='SoccerJuggling'):\n",
        "    y_test.append(-100) \n",
        "  elif(i.split('/')[1].split(\"_\")[0]=='SoccerPenalty'):\n",
        "    y_test.append(0)\n",
        "\n",
        "trainY=[]\n",
        "for i in range(0,len(y_train),n_steps):\n",
        "  trainY.append(y_train[i])\n",
        "testY=[]\n",
        "for i in range(0,len(y_test),n_steps):\n",
        "  testY.append(y_test[i])\n",
        "\n",
        "\n",
        "trainY = np.array(trainY)\n",
        "testY = np.array(testY)\n",
        "\n",
        "trainY=[]\n",
        "for i in range(0,len(y_train),n_steps):\n",
        "  trainY.append(y_train[i])\n",
        "testY=[]\n",
        "for i in range(0,len(y_test),n_steps):\n",
        "  testY.append(y_test[i])\n",
        "trainY  \n",
        "\n",
        "TRAINy = pd.DataFrame(trainY)\n",
        "TRAINy.columns = ['label']\n",
        "TRAINy['1']=0\n",
        "TRAINy['2']=0\n",
        "for i in TRAINy.loc[TRAINy['label']==-100].index:\n",
        "  TRAINy.loc[i,\"1\"]=1\n",
        "for i in TRAINy.loc[TRAINy['label']==0].index:\n",
        "  TRAINy.loc[i,\"2\"]=1\n",
        "\n",
        "final_trainY =np.array(TRAINy[['1','2']])\n",
        "\n",
        "TESTy = pd.DataFrame(testY)\n",
        "TESTy.columns = ['label']\n",
        "TESTy['1']=0\n",
        "TESTy['2']=0\n",
        "for i in TESTy.loc[TESTy['label']==-100].index:\n",
        "  TESTy.loc[i,\"1\"]=1\n",
        "for i in TESTy.loc[TESTy['label']==0].index:\n",
        "  TESTy.loc[i,\"2\"]=1\n",
        "\n",
        "final_testY = np.array(TESTy[['1','2']])"
      ],
      "execution_count": 157,
      "outputs": []
    },
    {
      "cell_type": "code",
      "metadata": {
        "colab": {
          "base_uri": "https://localhost:8080/"
        },
        "id": "tVBxtCZ03aB4",
        "outputId": "c0be3c92-9b6d-44df-cb38-2beb05f1b1e7"
      },
      "source": [
        "final_trainY.shape"
      ],
      "execution_count": 154,
      "outputs": [
        {
          "output_type": "execute_result",
          "data": {
            "text/plain": [
              "(65, 2)"
            ]
          },
          "metadata": {},
          "execution_count": 154
        }
      ]
    },
    {
      "cell_type": "code",
      "metadata": {
        "id": "VXrYWbX9lgzE",
        "colab": {
          "base_uri": "https://localhost:8080/"
        },
        "outputId": "82e5dc8b-11f3-4e13-c08a-598cb2df25f4"
      },
      "source": [
        "final_testY.shape"
      ],
      "execution_count": 172,
      "outputs": [
        {
          "output_type": "execute_result",
          "data": {
            "text/plain": [
              "(26, 2)"
            ]
          },
          "metadata": {},
          "execution_count": 172
        }
      ]
    },
    {
      "cell_type": "code",
      "metadata": {
        "id": "sOZfyo8-jKuL"
      },
      "source": [
        "model2 = models.Sequential()\n",
        "model2.add(layers.LSTM(500, activation='relu', return_sequences=True, input_shape=(n_steps, n_features-2)))\n",
        "model2.add(tf.keras.layers.BatchNormalization())\n",
        "model2.add(layers.LSTM(500, activation='relu'))\n",
        "model2.add(layers.Dense(2,activation=\"softmax\"))"
      ],
      "execution_count": 173,
      "outputs": []
    },
    {
      "cell_type": "code",
      "metadata": {
        "id": "-vGWSanEjP3z"
      },
      "source": [
        "# trainX=tf.stack(trainX)\n",
        "# final_trainY=tf.stack(final_trainY)\n",
        "# testX=tf.stack(testX)\n",
        "# final_testY=tf.stack(final_testY)"
      ],
      "execution_count": 131,
      "outputs": []
    },
    {
      "cell_type": "code",
      "metadata": {
        "id": "NY2Vgh3Q7GfK"
      },
      "source": [
        "optimizer = tf.keras.optimizers.Adam(learning_rate=1e-4, decay=1e-5)\n",
        "model2.compile(loss=tf.keras.losses.CategoricalCrossentropy(), optimizer='adam',\n",
        "                    metrics=['accuracy','top_k_categorical_accuracy'])\n",
        "#model2.load_weights(\"modelLstm.h5\")\n",
        "#model2.fit(trainX,final_trainY,validation_data=(testX,final_testY),batch_size=8,epochs=20)\n",
        "#model2.evaluate(testX,final_testY,batch_size = 8)\n",
        "#model2.save_weights(\"modelLstm.h5\")"
      ],
      "execution_count": 201,
      "outputs": []
    }
  ]
}